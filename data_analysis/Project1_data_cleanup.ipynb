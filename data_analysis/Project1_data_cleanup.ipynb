{
 "cells": [
  {
   "cell_type": "code",
   "execution_count": 1,
   "metadata": {},
   "outputs": [],
   "source": [
    "import pandas as pd\n",
    "import numpy as np "
   ]
  },
  {
   "cell_type": "code",
   "execution_count": 2,
   "metadata": {},
   "outputs": [],
   "source": [
    "play_off=pd.read_csv('playoff_shots.csv')"
   ]
  },
  {
   "cell_type": "code",
   "execution_count": 3,
   "metadata": {},
   "outputs": [
    {
     "name": "stdout",
     "output_type": "stream",
     "text": [
      "<class 'pandas.core.frame.DataFrame'>\n",
      "RangeIndex: 13470 entries, 0 to 13469\n",
      "Data columns (total 24 columns):\n",
      "GRID_TYPE              13470 non-null object\n",
      "GAME_ID                13470 non-null int64\n",
      "GAME_EVENT_ID          13470 non-null int64\n",
      "PLAYER_ID              13470 non-null int64\n",
      "PLAYER_NAME            13470 non-null object\n",
      "TEAM_ID                13470 non-null int64\n",
      "TEAM_NAME              13470 non-null object\n",
      "PERIOD                 13470 non-null int64\n",
      "MINUTES_REMAINING      13470 non-null int64\n",
      "SECONDS_REMAINING      13470 non-null int64\n",
      "EVENT_TYPE             13470 non-null object\n",
      "ACTION_TYPE            13470 non-null object\n",
      "SHOT_TYPE              13470 non-null object\n",
      "SHOT_ZONE_BASIC        13470 non-null object\n",
      "SHOT_ZONE_AREA         13470 non-null object\n",
      "SHOT_ZONE_RANGE        13470 non-null object\n",
      "SHOT_DISTANCE          13470 non-null int64\n",
      "LOC_X                  13470 non-null int64\n",
      "LOC_Y                  13470 non-null int64\n",
      "SHOT_ATTEMPTED_FLAG    13470 non-null int64\n",
      "SHOT_MADE_FLAG         13470 non-null int64\n",
      "GAME_DATE              13470 non-null int64\n",
      "HTM                    13470 non-null object\n",
      "VTM                    13470 non-null object\n",
      "dtypes: int64(13), object(11)\n",
      "memory usage: 2.5+ MB\n"
     ]
    }
   ],
   "source": [
    "play_off.info()"
   ]
  },
  {
   "cell_type": "code",
   "execution_count": 8,
   "metadata": {},
   "outputs": [
    {
     "data": {
      "text/plain": [
       "203"
      ]
     },
     "execution_count": 8,
     "metadata": {},
     "output_type": "execute_result"
    }
   ],
   "source": [
    "play_off['PLAYER_NAME'].nunique()"
   ]
  },
  {
   "cell_type": "code",
   "execution_count": 9,
   "metadata": {},
   "outputs": [
    {
     "data": {
      "text/plain": [
       "16"
      ]
     },
     "execution_count": 9,
     "metadata": {},
     "output_type": "execute_result"
    }
   ],
   "source": [
    "play_off['TEAM_NAME'].nunique()"
   ]
  },
  {
   "cell_type": "code",
   "execution_count": null,
   "metadata": {},
   "outputs": [],
   "source": []
  }
 ],
 "metadata": {
  "kernelspec": {
   "display_name": "Python 3",
   "language": "python",
   "name": "python3"
  },
  "language_info": {
   "codemirror_mode": {
    "name": "ipython",
    "version": 3
   },
   "file_extension": ".py",
   "mimetype": "text/x-python",
   "name": "python",
   "nbconvert_exporter": "python",
   "pygments_lexer": "ipython3",
   "version": "3.7.0"
  }
 },
 "nbformat": 4,
 "nbformat_minor": 2
}
