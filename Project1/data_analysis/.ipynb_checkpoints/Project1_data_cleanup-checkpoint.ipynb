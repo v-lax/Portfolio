{
 "cells": [
  {
   "cell_type": "code",
   "execution_count": 1,
   "metadata": {},
   "outputs": [],
   "source": [
    "import pandas as pd\n",
    "import numpy as np "
   ]
  },
  {
   "cell_type": "code",
   "execution_count": 2,
   "metadata": {},
   "outputs": [],
   "source": [
    "play_off=pd.read_csv('playoff_shots.csv')"
   ]
  },
  {
   "cell_type": "code",
   "execution_count": 3,
   "metadata": {},
   "outputs": [
    {
     "name": "stdout",
     "output_type": "stream",
     "text": [
      "<class 'pandas.core.frame.DataFrame'>\n",
      "RangeIndex: 13470 entries, 0 to 13469\n",
      "Data columns (total 24 columns):\n",
      "GRID_TYPE              13470 non-null object\n",
      "GAME_ID                13470 non-null int64\n",
      "GAME_EVENT_ID          13470 non-null int64\n",
      "PLAYER_ID              13470 non-null int64\n",
      "PLAYER_NAME            13470 non-null object\n",
      "TEAM_ID                13470 non-null int64\n",
      "TEAM_NAME              13470 non-null object\n",
      "PERIOD                 13470 non-null int64\n",
      "MINUTES_REMAINING      13470 non-null int64\n",
      "SECONDS_REMAINING      13470 non-null int64\n",
      "EVENT_TYPE             13470 non-null object\n",
      "ACTION_TYPE            13470 non-null object\n",
      "SHOT_TYPE              13470 non-null object\n",
      "SHOT_ZONE_BASIC        13470 non-null object\n",
      "SHOT_ZONE_AREA         13470 non-null object\n",
      "SHOT_ZONE_RANGE        13470 non-null object\n",
      "SHOT_DISTANCE          13470 non-null int64\n",
      "LOC_X                  13470 non-null int64\n",
      "LOC_Y                  13470 non-null int64\n",
      "SHOT_ATTEMPTED_FLAG    13470 non-null int64\n",
      "SHOT_MADE_FLAG         13470 non-null int64\n",
      "GAME_DATE              13470 non-null int64\n",
      "HTM                    13470 non-null object\n",
      "VTM                    13470 non-null object\n",
      "dtypes: int64(13), object(11)\n",
      "memory usage: 2.5+ MB\n"
     ]
    }
   ],
   "source": [
    "play_off.info()"
   ]
  },
  {
   "cell_type": "code",
   "execution_count": 8,
   "metadata": {},
   "outputs": [
    {
     "data": {
      "text/plain": [
       "203"
      ]
     },
     "execution_count": 8,
     "metadata": {},
     "output_type": "execute_result"
    }
   ],
   "source": [
    "#number of unique players\n",
    "play_off['PLAYER_NAME'].nunique()"
   ]
  },
  {
   "cell_type": "code",
   "execution_count": 9,
   "metadata": {},
   "outputs": [
    {
     "data": {
      "text/plain": [
       "16"
      ]
     },
     "execution_count": 9,
     "metadata": {},
     "output_type": "execute_result"
    }
   ],
   "source": [
    "#number of unique teams\n",
    "play_off['TEAM_NAME'].nunique()"
   ]
  },
  {
   "cell_type": "code",
   "execution_count": 4,
   "metadata": {},
   "outputs": [
    {
     "data": {
      "text/html": [
       "<div>\n",
       "<style scoped>\n",
       "    .dataframe tbody tr th:only-of-type {\n",
       "        vertical-align: middle;\n",
       "    }\n",
       "\n",
       "    .dataframe tbody tr th {\n",
       "        vertical-align: top;\n",
       "    }\n",
       "\n",
       "    .dataframe thead th {\n",
       "        text-align: right;\n",
       "    }\n",
       "</style>\n",
       "<table border=\"1\" class=\"dataframe\">\n",
       "  <thead>\n",
       "    <tr style=\"text-align: right;\">\n",
       "      <th></th>\n",
       "      <th>GRID_TYPE</th>\n",
       "      <th>GAME_ID</th>\n",
       "      <th>GAME_EVENT_ID</th>\n",
       "      <th>PLAYER_ID</th>\n",
       "      <th>PLAYER_NAME</th>\n",
       "      <th>TEAM_ID</th>\n",
       "      <th>TEAM_NAME</th>\n",
       "      <th>PERIOD</th>\n",
       "      <th>MINUTES_REMAINING</th>\n",
       "      <th>SECONDS_REMAINING</th>\n",
       "      <th>...</th>\n",
       "      <th>SHOT_ZONE_AREA</th>\n",
       "      <th>SHOT_ZONE_RANGE</th>\n",
       "      <th>SHOT_DISTANCE</th>\n",
       "      <th>LOC_X</th>\n",
       "      <th>LOC_Y</th>\n",
       "      <th>SHOT_ATTEMPTED_FLAG</th>\n",
       "      <th>SHOT_MADE_FLAG</th>\n",
       "      <th>GAME_DATE</th>\n",
       "      <th>HTM</th>\n",
       "      <th>VTM</th>\n",
       "    </tr>\n",
       "  </thead>\n",
       "  <tbody>\n",
       "    <tr>\n",
       "      <th>0</th>\n",
       "      <td>Shot Chart Detail</td>\n",
       "      <td>41700131</td>\n",
       "      <td>149</td>\n",
       "      <td>2544</td>\n",
       "      <td>LeBron James</td>\n",
       "      <td>1610612739</td>\n",
       "      <td>Cleveland Cavaliers</td>\n",
       "      <td>1</td>\n",
       "      <td>1</td>\n",
       "      <td>24</td>\n",
       "      <td>...</td>\n",
       "      <td>Left Side Center(LC)</td>\n",
       "      <td>24+ ft.</td>\n",
       "      <td>26</td>\n",
       "      <td>-168</td>\n",
       "      <td>206</td>\n",
       "      <td>1</td>\n",
       "      <td>0</td>\n",
       "      <td>20180415</td>\n",
       "      <td>CLE</td>\n",
       "      <td>IND</td>\n",
       "    </tr>\n",
       "    <tr>\n",
       "      <th>1</th>\n",
       "      <td>Shot Chart Detail</td>\n",
       "      <td>41700131</td>\n",
       "      <td>153</td>\n",
       "      <td>2544</td>\n",
       "      <td>LeBron James</td>\n",
       "      <td>1610612739</td>\n",
       "      <td>Cleveland Cavaliers</td>\n",
       "      <td>1</td>\n",
       "      <td>1</td>\n",
       "      <td>5</td>\n",
       "      <td>...</td>\n",
       "      <td>Center(C)</td>\n",
       "      <td>Less Than 8 ft.</td>\n",
       "      <td>0</td>\n",
       "      <td>3</td>\n",
       "      <td>1</td>\n",
       "      <td>1</td>\n",
       "      <td>0</td>\n",
       "      <td>20180415</td>\n",
       "      <td>CLE</td>\n",
       "      <td>IND</td>\n",
       "    </tr>\n",
       "    <tr>\n",
       "      <th>2</th>\n",
       "      <td>Shot Chart Detail</td>\n",
       "      <td>41700131</td>\n",
       "      <td>155</td>\n",
       "      <td>2544</td>\n",
       "      <td>LeBron James</td>\n",
       "      <td>1610612739</td>\n",
       "      <td>Cleveland Cavaliers</td>\n",
       "      <td>1</td>\n",
       "      <td>0</td>\n",
       "      <td>58</td>\n",
       "      <td>...</td>\n",
       "      <td>Center(C)</td>\n",
       "      <td>Less Than 8 ft.</td>\n",
       "      <td>0</td>\n",
       "      <td>0</td>\n",
       "      <td>-6</td>\n",
       "      <td>1</td>\n",
       "      <td>0</td>\n",
       "      <td>20180415</td>\n",
       "      <td>CLE</td>\n",
       "      <td>IND</td>\n",
       "    </tr>\n",
       "    <tr>\n",
       "      <th>3</th>\n",
       "      <td>Shot Chart Detail</td>\n",
       "      <td>41700131</td>\n",
       "      <td>187</td>\n",
       "      <td>2544</td>\n",
       "      <td>LeBron James</td>\n",
       "      <td>1610612739</td>\n",
       "      <td>Cleveland Cavaliers</td>\n",
       "      <td>2</td>\n",
       "      <td>11</td>\n",
       "      <td>8</td>\n",
       "      <td>...</td>\n",
       "      <td>Center(C)</td>\n",
       "      <td>Less Than 8 ft.</td>\n",
       "      <td>1</td>\n",
       "      <td>-8</td>\n",
       "      <td>13</td>\n",
       "      <td>1</td>\n",
       "      <td>1</td>\n",
       "      <td>20180415</td>\n",
       "      <td>CLE</td>\n",
       "      <td>IND</td>\n",
       "    </tr>\n",
       "    <tr>\n",
       "      <th>4</th>\n",
       "      <td>Shot Chart Detail</td>\n",
       "      <td>41700131</td>\n",
       "      <td>195</td>\n",
       "      <td>2544</td>\n",
       "      <td>LeBron James</td>\n",
       "      <td>1610612739</td>\n",
       "      <td>Cleveland Cavaliers</td>\n",
       "      <td>2</td>\n",
       "      <td>10</td>\n",
       "      <td>22</td>\n",
       "      <td>...</td>\n",
       "      <td>Center(C)</td>\n",
       "      <td>Less Than 8 ft.</td>\n",
       "      <td>1</td>\n",
       "      <td>2</td>\n",
       "      <td>10</td>\n",
       "      <td>1</td>\n",
       "      <td>1</td>\n",
       "      <td>20180415</td>\n",
       "      <td>CLE</td>\n",
       "      <td>IND</td>\n",
       "    </tr>\n",
       "  </tbody>\n",
       "</table>\n",
       "<p>5 rows × 24 columns</p>\n",
       "</div>"
      ],
      "text/plain": [
       "           GRID_TYPE   GAME_ID  GAME_EVENT_ID  PLAYER_ID   PLAYER_NAME  \\\n",
       "0  Shot Chart Detail  41700131            149       2544  LeBron James   \n",
       "1  Shot Chart Detail  41700131            153       2544  LeBron James   \n",
       "2  Shot Chart Detail  41700131            155       2544  LeBron James   \n",
       "3  Shot Chart Detail  41700131            187       2544  LeBron James   \n",
       "4  Shot Chart Detail  41700131            195       2544  LeBron James   \n",
       "\n",
       "      TEAM_ID            TEAM_NAME  PERIOD  MINUTES_REMAINING  \\\n",
       "0  1610612739  Cleveland Cavaliers       1                  1   \n",
       "1  1610612739  Cleveland Cavaliers       1                  1   \n",
       "2  1610612739  Cleveland Cavaliers       1                  0   \n",
       "3  1610612739  Cleveland Cavaliers       2                 11   \n",
       "4  1610612739  Cleveland Cavaliers       2                 10   \n",
       "\n",
       "   SECONDS_REMAINING ...         SHOT_ZONE_AREA  SHOT_ZONE_RANGE  \\\n",
       "0                 24 ...   Left Side Center(LC)          24+ ft.   \n",
       "1                  5 ...              Center(C)  Less Than 8 ft.   \n",
       "2                 58 ...              Center(C)  Less Than 8 ft.   \n",
       "3                  8 ...              Center(C)  Less Than 8 ft.   \n",
       "4                 22 ...              Center(C)  Less Than 8 ft.   \n",
       "\n",
       "  SHOT_DISTANCE LOC_X LOC_Y SHOT_ATTEMPTED_FLAG  SHOT_MADE_FLAG  GAME_DATE  \\\n",
       "0            26  -168   206                   1               0   20180415   \n",
       "1             0     3     1                   1               0   20180415   \n",
       "2             0     0    -6                   1               0   20180415   \n",
       "3             1    -8    13                   1               1   20180415   \n",
       "4             1     2    10                   1               1   20180415   \n",
       "\n",
       "   HTM  VTM  \n",
       "0  CLE  IND  \n",
       "1  CLE  IND  \n",
       "2  CLE  IND  \n",
       "3  CLE  IND  \n",
       "4  CLE  IND  \n",
       "\n",
       "[5 rows x 24 columns]"
      ]
     },
     "execution_count": 4,
     "metadata": {},
     "output_type": "execute_result"
    }
   ],
   "source": [
    "play_off.head()"
   ]
  },
  {
   "cell_type": "code",
   "execution_count": 9,
   "metadata": {},
   "outputs": [
    {
     "data": {
      "text/plain": [
       "2"
      ]
     },
     "execution_count": 9,
     "metadata": {},
     "output_type": "execute_result"
    }
   ],
   "source": [
    "cavpac=((play_off['HTM']=='CLE')&(play_off['VTM']=='IND'))\n",
    "paccav=((play_off['HTM']==\"IND\")&(play_off['VTM']=='CLE'))\n",
    "cavs_vs_pacers=play_off[(cavpac)|(paccav)]\n",
    "cavs_vs_pacers['TEAM_NAME'].nunique()"
   ]
  },
  {
   "cell_type": "code",
   "execution_count": 10,
   "metadata": {},
   "outputs": [
    {
     "data": {
      "text/plain": [
       "23"
      ]
     },
     "execution_count": 10,
     "metadata": {},
     "output_type": "execute_result"
    }
   ],
   "source": [
    "cavs_vs_pacers['PLAYER_NAME'].nunique()"
   ]
  },
  {
   "cell_type": "code",
   "execution_count": 14,
   "metadata": {},
   "outputs": [
    {
     "data": {
      "text/plain": [
       "41700134    171\n",
       "41700136    166\n",
       "41700131    157\n",
       "41700137    154\n",
       "41700132    151\n",
       "41700133    150\n",
       "41700135    146\n",
       "Name: GAME_ID, dtype: int64"
      ]
     },
     "execution_count": 14,
     "metadata": {},
     "output_type": "execute_result"
    }
   ],
   "source": [
    "cavs_vs_pacers['GAME_ID'].value_counts()"
   ]
  },
  {
   "cell_type": "code",
   "execution_count": 15,
   "metadata": {},
   "outputs": [
    {
     "name": "stderr",
     "output_type": "stream",
     "text": [
      "/Users/Valli/anaconda3/lib/python3.7/site-packages/ipykernel_launcher.py:1: SettingWithCopyWarning: \n",
      "A value is trying to be set on a copy of a slice from a DataFrame.\n",
      "Try using .loc[row_indexer,col_indexer] = value instead\n",
      "\n",
      "See the caveats in the documentation: http://pandas.pydata.org/pandas-docs/stable/indexing.html#indexing-view-versus-copy\n",
      "  \"\"\"Entry point for launching an IPython kernel.\n",
      "/Users/Valli/anaconda3/lib/python3.7/site-packages/ipykernel_launcher.py:5: FutureWarning: get_value is deprecated and will be removed in a future release. Please use .at[] or .iat[] accessors instead\n",
      "  \"\"\"\n",
      "/Users/Valli/anaconda3/lib/python3.7/site-packages/ipykernel_launcher.py:8: FutureWarning: set_value is deprecated and will be removed in a future release. Please use .at[] or .iat[] accessors instead\n",
      "  \n",
      "/Users/Valli/anaconda3/lib/python3.7/site-packages/ipykernel_launcher.py:10: FutureWarning: set_value is deprecated and will be removed in a future release. Please use .at[] or .iat[] accessors instead\n",
      "  # Remove the CWD from sys.path while we load stuff.\n",
      "/Users/Valli/anaconda3/lib/python3.7/site-packages/ipykernel_launcher.py:12: FutureWarning: set_value is deprecated and will be removed in a future release. Please use .at[] or .iat[] accessors instead\n",
      "  if sys.path[0] == '':\n",
      "/Users/Valli/anaconda3/lib/python3.7/site-packages/ipykernel_launcher.py:14: FutureWarning: set_value is deprecated and will be removed in a future release. Please use .at[] or .iat[] accessors instead\n",
      "  \n",
      "/Users/Valli/anaconda3/lib/python3.7/site-packages/ipykernel_launcher.py:16: FutureWarning: set_value is deprecated and will be removed in a future release. Please use .at[] or .iat[] accessors instead\n",
      "  app.launch_new_instance()\n",
      "/Users/Valli/anaconda3/lib/python3.7/site-packages/ipykernel_launcher.py:18: FutureWarning: set_value is deprecated and will be removed in a future release. Please use .at[] or .iat[] accessors instead\n",
      "/Users/Valli/anaconda3/lib/python3.7/site-packages/ipykernel_launcher.py:20: FutureWarning: set_value is deprecated and will be removed in a future release. Please use .at[] or .iat[] accessors instead\n"
     ]
    }
   ],
   "source": [
    "cavs_vs_pacers['Game #']=np.nan\n",
    "\n",
    "for index, row in cavs_vs_pacers.iterrows():\n",
    "    \n",
    "    game_id=cavs_vs_pacers.get_value(index,'GAME_ID')\n",
    "    \n",
    "    if game_id==41700131:\n",
    "        cavs_vs_pacers.set_value(index,'Game #',1)\n",
    "    elif game_id==41700132:\n",
    "        cavs_vs_pacers.set_value(index,'Game #',2)\n",
    "    elif game_id==41700133:\n",
    "        cavs_vs_pacers.set_value(index,'Game #',3)\n",
    "    elif game_id==41700134:\n",
    "        cavs_vs_pacers.set_value(index,'Game #',4)\n",
    "    elif game_id==41700135:\n",
    "        cavs_vs_pacers.set_value(index,'Game #',5)\n",
    "    elif game_id==41700136:\n",
    "        cavs_vs_pacers.set_value(index,'Game #',6)\n",
    "    elif game_id==41700137:\n",
    "        cavs_vs_pacers.set_value(index,'Game #',7)"
   ]
  },
  {
   "cell_type": "code",
   "execution_count": 16,
   "metadata": {},
   "outputs": [
    {
     "data": {
      "text/plain": [
       "4.0    171\n",
       "6.0    166\n",
       "1.0    157\n",
       "7.0    154\n",
       "2.0    151\n",
       "3.0    150\n",
       "5.0    146\n",
       "Name: Game #, dtype: int64"
      ]
     },
     "execution_count": 16,
     "metadata": {},
     "output_type": "execute_result"
    }
   ],
   "source": [
    "cavs_vs_pacers['Game #'].value_counts()"
   ]
  },
  {
   "cell_type": "code",
   "execution_count": 17,
   "metadata": {},
   "outputs": [],
   "source": [
    "cavs_vs_pacers.to_csv('cavs_vs_pacers.csv')"
   ]
  },
  {
   "cell_type": "markdown",
   "metadata": {},
   "source": [
    "# Raptors vs Wizards"
   ]
  },
  {
   "cell_type": "code",
   "execution_count": 18,
   "metadata": {},
   "outputs": [
    {
     "data": {
      "text/plain": [
       "GSW    1927\n",
       "BOS    1819\n",
       "HOU    1664\n",
       "CLE    1402\n",
       "PHI     876\n",
       "TOR     866\n",
       "UTA     849\n",
       "NOP     711\n",
       "OKC     516\n",
       "WAS     500\n",
       "IND     487\n",
       "MIL     475\n",
       "POR     359\n",
       "MIN     347\n",
       "SAS     340\n",
       "MIA     332\n",
       "Name: HTM, dtype: int64"
      ]
     },
     "execution_count": 18,
     "metadata": {},
     "output_type": "execute_result"
    }
   ],
   "source": [
    "play_off['HTM'].value_counts()"
   ]
  },
  {
   "cell_type": "code",
   "execution_count": 20,
   "metadata": {},
   "outputs": [
    {
     "data": {
      "text/plain": [
       "2"
      ]
     },
     "execution_count": 20,
     "metadata": {},
     "output_type": "execute_result"
    }
   ],
   "source": [
    "rapwiz=((play_off['HTM']=='TOR')&(play_off['VTM']=='WAS'))\n",
    "wizrap=((play_off['HTM']==\"WAS\")&(play_off['VTM']=='TOR'))\n",
    "\n",
    "raptors_vs_wizards=play_off[(wizrap)|(rapwiz)]\n",
    "raptors_vs_wizards['TEAM_NAME'].nunique()"
   ]
  },
  {
   "cell_type": "code",
   "execution_count": 22,
   "metadata": {},
   "outputs": [
    {
     "data": {
      "text/plain": [
       "41700102    173\n",
       "41700105    172\n",
       "41700106    169\n",
       "41700103    167\n",
       "41700104    164\n",
       "41700101    163\n",
       "Name: GAME_ID, dtype: int64"
      ]
     },
     "execution_count": 22,
     "metadata": {},
     "output_type": "execute_result"
    }
   ],
   "source": [
    "raptors_vs_wizards['GAME_ID'].value_counts()"
   ]
  },
  {
   "cell_type": "code",
   "execution_count": 23,
   "metadata": {},
   "outputs": [
    {
     "name": "stderr",
     "output_type": "stream",
     "text": [
      "/Users/Valli/anaconda3/lib/python3.7/site-packages/ipykernel_launcher.py:1: SettingWithCopyWarning: \n",
      "A value is trying to be set on a copy of a slice from a DataFrame.\n",
      "Try using .loc[row_indexer,col_indexer] = value instead\n",
      "\n",
      "See the caveats in the documentation: http://pandas.pydata.org/pandas-docs/stable/indexing.html#indexing-view-versus-copy\n",
      "  \"\"\"Entry point for launching an IPython kernel.\n",
      "/Users/Valli/anaconda3/lib/python3.7/site-packages/ipykernel_launcher.py:5: FutureWarning: get_value is deprecated and will be removed in a future release. Please use .at[] or .iat[] accessors instead\n",
      "  \"\"\"\n",
      "/Users/Valli/anaconda3/lib/python3.7/site-packages/ipykernel_launcher.py:8: FutureWarning: set_value is deprecated and will be removed in a future release. Please use .at[] or .iat[] accessors instead\n",
      "  \n",
      "/Users/Valli/anaconda3/lib/python3.7/site-packages/ipykernel_launcher.py:10: FutureWarning: set_value is deprecated and will be removed in a future release. Please use .at[] or .iat[] accessors instead\n",
      "  # Remove the CWD from sys.path while we load stuff.\n",
      "/Users/Valli/anaconda3/lib/python3.7/site-packages/ipykernel_launcher.py:12: FutureWarning: set_value is deprecated and will be removed in a future release. Please use .at[] or .iat[] accessors instead\n",
      "  if sys.path[0] == '':\n",
      "/Users/Valli/anaconda3/lib/python3.7/site-packages/ipykernel_launcher.py:14: FutureWarning: set_value is deprecated and will be removed in a future release. Please use .at[] or .iat[] accessors instead\n",
      "  \n",
      "/Users/Valli/anaconda3/lib/python3.7/site-packages/ipykernel_launcher.py:16: FutureWarning: set_value is deprecated and will be removed in a future release. Please use .at[] or .iat[] accessors instead\n",
      "  app.launch_new_instance()\n",
      "/Users/Valli/anaconda3/lib/python3.7/site-packages/ipykernel_launcher.py:18: FutureWarning: set_value is deprecated and will be removed in a future release. Please use .at[] or .iat[] accessors instead\n"
     ]
    }
   ],
   "source": [
    "raptors_vs_wizards['Game #']=np.nan\n",
    "\n",
    "for index, row in raptors_vs_wizards.iterrows():\n",
    "    \n",
    "    game_id=raptors_vs_wizards.get_value(index,'GAME_ID')\n",
    "    \n",
    "    if game_id==41700101:\n",
    "        raptors_vs_wizards.set_value(index,'Game #',1)\n",
    "    elif game_id==41700102:\n",
    "        raptors_vs_wizards.set_value(index,'Game #',2)\n",
    "    elif game_id==41700103:\n",
    "        raptors_vs_wizards.set_value(index,'Game #',3)\n",
    "    elif game_id==41700104:\n",
    "        raptors_vs_wizards.set_value(index,'Game #',4)\n",
    "    elif game_id==41700105:\n",
    "        raptors_vs_wizards.set_value(index,'Game #',5)\n",
    "    elif game_id==41700106:\n",
    "        raptors_vs_wizards.set_value(index,'Game #',6)"
   ]
  },
  {
   "cell_type": "code",
   "execution_count": 24,
   "metadata": {},
   "outputs": [
    {
     "data": {
      "text/plain": [
       "2.0    173\n",
       "5.0    172\n",
       "6.0    169\n",
       "3.0    167\n",
       "4.0    164\n",
       "1.0    163\n",
       "Name: Game #, dtype: int64"
      ]
     },
     "execution_count": 24,
     "metadata": {},
     "output_type": "execute_result"
    }
   ],
   "source": [
    "raptors_vs_wizards['Game #'].value_counts()"
   ]
  },
  {
   "cell_type": "code",
   "execution_count": 25,
   "metadata": {},
   "outputs": [],
   "source": [
    "raptors_vs_wizards.to_csv('raptors_vs_wizards.csv')"
   ]
  },
  {
   "cell_type": "markdown",
   "metadata": {},
   "source": [
    "## 76ers vs Heat"
   ]
  },
  {
   "cell_type": "code",
   "execution_count": 26,
   "metadata": {},
   "outputs": [
    {
     "data": {
      "text/plain": [
       "2"
      ]
     },
     "execution_count": 26,
     "metadata": {},
     "output_type": "execute_result"
    }
   ],
   "source": [
    "sixheat=((play_off['HTM']=='PHI')&(play_off['VTM']=='MIA'))\n",
    "heatsix=((play_off['HTM']==\"MIA\")&(play_off['VTM']=='PHI'))\n",
    "\n",
    "sixers_vs_heat=play_off[(sixheat)|(heatsix)]\n",
    "sixers_vs_heat['TEAM_NAME'].nunique()"
   ]
  },
  {
   "cell_type": "code",
   "execution_count": 27,
   "metadata": {},
   "outputs": [
    {
     "data": {
      "text/plain": [
       "41700124    178\n",
       "41700122    178\n",
       "41700121    172\n",
       "41700125    169\n",
       "41700123    154\n",
       "Name: GAME_ID, dtype: int64"
      ]
     },
     "execution_count": 27,
     "metadata": {},
     "output_type": "execute_result"
    }
   ],
   "source": [
    "sixers_vs_heat['GAME_ID'].value_counts()"
   ]
  },
  {
   "cell_type": "code",
   "execution_count": 28,
   "metadata": {},
   "outputs": [
    {
     "name": "stderr",
     "output_type": "stream",
     "text": [
      "/Users/Valli/anaconda3/lib/python3.7/site-packages/ipykernel_launcher.py:1: SettingWithCopyWarning: \n",
      "A value is trying to be set on a copy of a slice from a DataFrame.\n",
      "Try using .loc[row_indexer,col_indexer] = value instead\n",
      "\n",
      "See the caveats in the documentation: http://pandas.pydata.org/pandas-docs/stable/indexing.html#indexing-view-versus-copy\n",
      "  \"\"\"Entry point for launching an IPython kernel.\n",
      "/Users/Valli/anaconda3/lib/python3.7/site-packages/ipykernel_launcher.py:5: FutureWarning: get_value is deprecated and will be removed in a future release. Please use .at[] or .iat[] accessors instead\n",
      "  \"\"\"\n",
      "/Users/Valli/anaconda3/lib/python3.7/site-packages/ipykernel_launcher.py:8: FutureWarning: set_value is deprecated and will be removed in a future release. Please use .at[] or .iat[] accessors instead\n",
      "  \n",
      "/Users/Valli/anaconda3/lib/python3.7/site-packages/ipykernel_launcher.py:10: FutureWarning: set_value is deprecated and will be removed in a future release. Please use .at[] or .iat[] accessors instead\n",
      "  # Remove the CWD from sys.path while we load stuff.\n",
      "/Users/Valli/anaconda3/lib/python3.7/site-packages/ipykernel_launcher.py:12: FutureWarning: set_value is deprecated and will be removed in a future release. Please use .at[] or .iat[] accessors instead\n",
      "  if sys.path[0] == '':\n",
      "/Users/Valli/anaconda3/lib/python3.7/site-packages/ipykernel_launcher.py:14: FutureWarning: set_value is deprecated and will be removed in a future release. Please use .at[] or .iat[] accessors instead\n",
      "  \n",
      "/Users/Valli/anaconda3/lib/python3.7/site-packages/ipykernel_launcher.py:16: FutureWarning: set_value is deprecated and will be removed in a future release. Please use .at[] or .iat[] accessors instead\n",
      "  app.launch_new_instance()\n"
     ]
    }
   ],
   "source": [
    "sixers_vs_heat['Game #']=np.nan\n",
    "\n",
    "for index, row in sixers_vs_heat.iterrows():\n",
    "    \n",
    "    game_id=sixers_vs_heat.get_value(index,'GAME_ID')\n",
    "    \n",
    "    if game_id==41700121:\n",
    "        sixers_vs_heat.set_value(index,'Game #',1)\n",
    "    elif game_id==41700122:\n",
    "        sixers_vs_heat.set_value(index,'Game #',2)\n",
    "    elif game_id==41700123:\n",
    "        sixers_vs_heat.set_value(index,'Game #',3)\n",
    "    elif game_id==41700124:\n",
    "        sixers_vs_heat.set_value(index,'Game #',4)\n",
    "    elif game_id==41700125:\n",
    "        sixers_vs_heat.set_value(index,'Game #',5)"
   ]
  },
  {
   "cell_type": "code",
   "execution_count": 30,
   "metadata": {},
   "outputs": [
    {
     "data": {
      "text/plain": [
       "4.0    178\n",
       "2.0    178\n",
       "1.0    172\n",
       "5.0    169\n",
       "3.0    154\n",
       "Name: Game #, dtype: int64"
      ]
     },
     "execution_count": 30,
     "metadata": {},
     "output_type": "execute_result"
    }
   ],
   "source": [
    "sixers_vs_heat['Game #'].value_counts()"
   ]
  },
  {
   "cell_type": "code",
   "execution_count": 32,
   "metadata": {},
   "outputs": [],
   "source": [
    "sixers_vs_heat.to_csv('sixers_vs_heat.csv')"
   ]
  },
  {
   "cell_type": "markdown",
   "metadata": {},
   "source": [
    "# Celtics vs Bucks"
   ]
  },
  {
   "cell_type": "code",
   "execution_count": 33,
   "metadata": {},
   "outputs": [
    {
     "data": {
      "text/plain": [
       "41700111    177\n",
       "41700112    167\n",
       "41700114    160\n",
       "41700113    159\n",
       "41700117    158\n",
       "41700116    156\n",
       "41700115    156\n",
       "Name: GAME_ID, dtype: int64"
      ]
     },
     "execution_count": 33,
     "metadata": {},
     "output_type": "execute_result"
    }
   ],
   "source": [
    "celticsbucks=((play_off['HTM']=='BOS')&(play_off['VTM']=='MIL'))\n",
    "bucksceltics=((play_off['HTM']==\"MIL\")&(play_off['VTM']=='BOS'))\n",
    "\n",
    "celtics_vs_bucks=play_off[(celticsbucks)|(bucksceltics)]\n",
    "celtics_vs_bucks['GAME_ID'].value_counts()"
   ]
  },
  {
   "cell_type": "code",
   "execution_count": 34,
   "metadata": {},
   "outputs": [
    {
     "name": "stderr",
     "output_type": "stream",
     "text": [
      "/Users/Valli/anaconda3/lib/python3.7/site-packages/ipykernel_launcher.py:1: SettingWithCopyWarning: \n",
      "A value is trying to be set on a copy of a slice from a DataFrame.\n",
      "Try using .loc[row_indexer,col_indexer] = value instead\n",
      "\n",
      "See the caveats in the documentation: http://pandas.pydata.org/pandas-docs/stable/indexing.html#indexing-view-versus-copy\n",
      "  \"\"\"Entry point for launching an IPython kernel.\n",
      "/Users/Valli/anaconda3/lib/python3.7/site-packages/ipykernel_launcher.py:5: FutureWarning: get_value is deprecated and will be removed in a future release. Please use .at[] or .iat[] accessors instead\n",
      "  \"\"\"\n",
      "/Users/Valli/anaconda3/lib/python3.7/site-packages/ipykernel_launcher.py:8: FutureWarning: set_value is deprecated and will be removed in a future release. Please use .at[] or .iat[] accessors instead\n",
      "  \n",
      "/Users/Valli/anaconda3/lib/python3.7/site-packages/ipykernel_launcher.py:10: FutureWarning: set_value is deprecated and will be removed in a future release. Please use .at[] or .iat[] accessors instead\n",
      "  # Remove the CWD from sys.path while we load stuff.\n",
      "/Users/Valli/anaconda3/lib/python3.7/site-packages/ipykernel_launcher.py:12: FutureWarning: set_value is deprecated and will be removed in a future release. Please use .at[] or .iat[] accessors instead\n",
      "  if sys.path[0] == '':\n",
      "/Users/Valli/anaconda3/lib/python3.7/site-packages/ipykernel_launcher.py:14: FutureWarning: set_value is deprecated and will be removed in a future release. Please use .at[] or .iat[] accessors instead\n",
      "  \n",
      "/Users/Valli/anaconda3/lib/python3.7/site-packages/ipykernel_launcher.py:16: FutureWarning: set_value is deprecated and will be removed in a future release. Please use .at[] or .iat[] accessors instead\n",
      "  app.launch_new_instance()\n",
      "/Users/Valli/anaconda3/lib/python3.7/site-packages/ipykernel_launcher.py:18: FutureWarning: set_value is deprecated and will be removed in a future release. Please use .at[] or .iat[] accessors instead\n",
      "/Users/Valli/anaconda3/lib/python3.7/site-packages/ipykernel_launcher.py:20: FutureWarning: set_value is deprecated and will be removed in a future release. Please use .at[] or .iat[] accessors instead\n"
     ]
    }
   ],
   "source": [
    "celtics_vs_bucks['Game #']=np.nan\n",
    "\n",
    "for index, row in celtics_vs_bucks.iterrows():\n",
    "    \n",
    "    game_id=celtics_vs_bucks.get_value(index,'GAME_ID')\n",
    "    \n",
    "    if game_id==41700111:\n",
    "        celtics_vs_bucks.set_value(index,'Game #',1)\n",
    "    elif game_id==41700112:\n",
    "        celtics_vs_bucks.set_value(index,'Game #',2)\n",
    "    elif game_id==41700113:\n",
    "        celtics_vs_bucks.set_value(index,'Game #',3)\n",
    "    elif game_id==41700114:\n",
    "        celtics_vs_bucks.set_value(index,'Game #',4)\n",
    "    elif game_id==41700115:\n",
    "        celtics_vs_bucks.set_value(index,'Game #',5)\n",
    "    elif game_id==41700116:\n",
    "        celtics_vs_bucks.set_value(index,'Game #',6)\n",
    "    elif game_id==41700117:\n",
    "        celtics_vs_bucks.set_value(index,'Game #',7)"
   ]
  },
  {
   "cell_type": "code",
   "execution_count": 35,
   "metadata": {},
   "outputs": [
    {
     "data": {
      "text/plain": [
       "1.0    177\n",
       "2.0    167\n",
       "4.0    160\n",
       "3.0    159\n",
       "7.0    158\n",
       "6.0    156\n",
       "5.0    156\n",
       "Name: Game #, dtype: int64"
      ]
     },
     "execution_count": 35,
     "metadata": {},
     "output_type": "execute_result"
    }
   ],
   "source": [
    "celtics_vs_bucks['Game #'].value_counts()"
   ]
  },
  {
   "cell_type": "code",
   "execution_count": 36,
   "metadata": {},
   "outputs": [],
   "source": [
    "celtics_vs_bucks.to_csv('celtics_vs_bucks.csv')"
   ]
  },
  {
   "cell_type": "markdown",
   "metadata": {},
   "source": [
    "# Raptors vs Cavs"
   ]
  },
  {
   "cell_type": "code",
   "execution_count": 37,
   "metadata": {},
   "outputs": [
    {
     "data": {
      "text/plain": [
       "41700201    193\n",
       "41700202    165\n",
       "41700204    163\n",
       "41700203    154\n",
       "Name: GAME_ID, dtype: int64"
      ]
     },
     "execution_count": 37,
     "metadata": {},
     "output_type": "execute_result"
    }
   ],
   "source": [
    "rapcavs=((play_off['HTM']=='TOR')&(play_off['VTM']=='CLE'))\n",
    "cavsrap=((play_off['HTM']==\"CLE\")&(play_off['VTM']=='TOR'))\n",
    "\n",
    "cavs_vs_raptors=play_off[(rapcavs)|(cavsrap)]\n",
    "cavs_vs_raptors['GAME_ID'].value_counts()"
   ]
  },
  {
   "cell_type": "code",
   "execution_count": 38,
   "metadata": {},
   "outputs": [
    {
     "name": "stderr",
     "output_type": "stream",
     "text": [
      "/Users/Valli/anaconda3/lib/python3.7/site-packages/ipykernel_launcher.py:1: SettingWithCopyWarning: \n",
      "A value is trying to be set on a copy of a slice from a DataFrame.\n",
      "Try using .loc[row_indexer,col_indexer] = value instead\n",
      "\n",
      "See the caveats in the documentation: http://pandas.pydata.org/pandas-docs/stable/indexing.html#indexing-view-versus-copy\n",
      "  \"\"\"Entry point for launching an IPython kernel.\n",
      "/Users/Valli/anaconda3/lib/python3.7/site-packages/ipykernel_launcher.py:5: FutureWarning: get_value is deprecated and will be removed in a future release. Please use .at[] or .iat[] accessors instead\n",
      "  \"\"\"\n",
      "/Users/Valli/anaconda3/lib/python3.7/site-packages/ipykernel_launcher.py:8: FutureWarning: set_value is deprecated and will be removed in a future release. Please use .at[] or .iat[] accessors instead\n",
      "  \n",
      "/Users/Valli/anaconda3/lib/python3.7/site-packages/ipykernel_launcher.py:10: FutureWarning: set_value is deprecated and will be removed in a future release. Please use .at[] or .iat[] accessors instead\n",
      "  # Remove the CWD from sys.path while we load stuff.\n",
      "/Users/Valli/anaconda3/lib/python3.7/site-packages/ipykernel_launcher.py:12: FutureWarning: set_value is deprecated and will be removed in a future release. Please use .at[] or .iat[] accessors instead\n",
      "  if sys.path[0] == '':\n",
      "/Users/Valli/anaconda3/lib/python3.7/site-packages/ipykernel_launcher.py:14: FutureWarning: set_value is deprecated and will be removed in a future release. Please use .at[] or .iat[] accessors instead\n",
      "  \n"
     ]
    }
   ],
   "source": [
    "cavs_vs_raptors['Game #']=np.nan\n",
    "\n",
    "for index, row in cavs_vs_raptors.iterrows():\n",
    "    \n",
    "    game_id=cavs_vs_raptors.get_value(index,'GAME_ID')\n",
    "    \n",
    "    if game_id==41700201:\n",
    "        cavs_vs_raptors.set_value(index,'Game #',1)\n",
    "    elif game_id==41700202:\n",
    "        cavs_vs_raptors.set_value(index,'Game #',2)\n",
    "    elif game_id==41700203:\n",
    "        cavs_vs_raptors.set_value(index,'Game #',3)\n",
    "    elif game_id==41700204:\n",
    "        cavs_vs_raptors.set_value(index,'Game #',4)"
   ]
  },
  {
   "cell_type": "code",
   "execution_count": 39,
   "metadata": {},
   "outputs": [
    {
     "data": {
      "text/plain": [
       "1.0    193\n",
       "2.0    165\n",
       "4.0    163\n",
       "3.0    154\n",
       "Name: Game #, dtype: int64"
      ]
     },
     "execution_count": 39,
     "metadata": {},
     "output_type": "execute_result"
    }
   ],
   "source": [
    "cavs_vs_raptors['Game #'].value_counts()"
   ]
  },
  {
   "cell_type": "code",
   "execution_count": 40,
   "metadata": {},
   "outputs": [],
   "source": [
    "cavs_vs_raptors.to_csv('cavs_vs_raptors.csv')"
   ]
  },
  {
   "cell_type": "markdown",
   "metadata": {},
   "source": [
    "# 76er vs Celtics"
   ]
  },
  {
   "cell_type": "code",
   "execution_count": 41,
   "metadata": {},
   "outputs": [
    {
     "data": {
      "text/plain": [
       "41700213    188\n",
       "41700212    174\n",
       "41700214    169\n",
       "41700211    168\n",
       "41700215    167\n",
       "Name: GAME_ID, dtype: int64"
      ]
     },
     "execution_count": 41,
     "metadata": {},
     "output_type": "execute_result"
    }
   ],
   "source": [
    "sixceltics=((play_off['HTM']=='PHI')&(play_off['VTM']=='BOS'))\n",
    "celticssix=((play_off['HTM']==\"BOS\")&(play_off['VTM']=='PHI'))\n",
    "\n",
    "sixers_vs_celtics=play_off[(sixceltics)|(celticssix)]\n",
    "sixers_vs_celtics['GAME_ID'].value_counts()"
   ]
  },
  {
   "cell_type": "code",
   "execution_count": 42,
   "metadata": {},
   "outputs": [
    {
     "name": "stderr",
     "output_type": "stream",
     "text": [
      "/Users/Valli/anaconda3/lib/python3.7/site-packages/ipykernel_launcher.py:1: SettingWithCopyWarning: \n",
      "A value is trying to be set on a copy of a slice from a DataFrame.\n",
      "Try using .loc[row_indexer,col_indexer] = value instead\n",
      "\n",
      "See the caveats in the documentation: http://pandas.pydata.org/pandas-docs/stable/indexing.html#indexing-view-versus-copy\n",
      "  \"\"\"Entry point for launching an IPython kernel.\n",
      "/Users/Valli/anaconda3/lib/python3.7/site-packages/ipykernel_launcher.py:5: FutureWarning: get_value is deprecated and will be removed in a future release. Please use .at[] or .iat[] accessors instead\n",
      "  \"\"\"\n",
      "/Users/Valli/anaconda3/lib/python3.7/site-packages/ipykernel_launcher.py:8: FutureWarning: set_value is deprecated and will be removed in a future release. Please use .at[] or .iat[] accessors instead\n",
      "  \n",
      "/Users/Valli/anaconda3/lib/python3.7/site-packages/ipykernel_launcher.py:10: FutureWarning: set_value is deprecated and will be removed in a future release. Please use .at[] or .iat[] accessors instead\n",
      "  # Remove the CWD from sys.path while we load stuff.\n",
      "/Users/Valli/anaconda3/lib/python3.7/site-packages/ipykernel_launcher.py:12: FutureWarning: set_value is deprecated and will be removed in a future release. Please use .at[] or .iat[] accessors instead\n",
      "  if sys.path[0] == '':\n",
      "/Users/Valli/anaconda3/lib/python3.7/site-packages/ipykernel_launcher.py:14: FutureWarning: set_value is deprecated and will be removed in a future release. Please use .at[] or .iat[] accessors instead\n",
      "  \n",
      "/Users/Valli/anaconda3/lib/python3.7/site-packages/ipykernel_launcher.py:16: FutureWarning: set_value is deprecated and will be removed in a future release. Please use .at[] or .iat[] accessors instead\n",
      "  app.launch_new_instance()\n"
     ]
    }
   ],
   "source": [
    "sixers_vs_celtics['Game #']=np.nan\n",
    "\n",
    "for index, row in sixers_vs_celtics.iterrows():\n",
    "    \n",
    "    game_id=sixers_vs_celtics.get_value(index,'GAME_ID')\n",
    "    \n",
    "    if game_id==41700211:\n",
    "        sixers_vs_celtics.set_value(index,'Game #',1)\n",
    "    elif game_id==41700212:\n",
    "        sixers_vs_celtics.set_value(index,'Game #',2)\n",
    "    elif game_id==41700213:\n",
    "        sixers_vs_celtics.set_value(index,'Game #',3)\n",
    "    elif game_id==41700214:\n",
    "        sixers_vs_celtics.set_value(index,'Game #',4)\n",
    "    elif game_id==41700215:\n",
    "        sixers_vs_celtics.set_value(index,'Game #',5)"
   ]
  },
  {
   "cell_type": "code",
   "execution_count": 44,
   "metadata": {},
   "outputs": [
    {
     "data": {
      "text/plain": [
       "3.0    188\n",
       "2.0    174\n",
       "4.0    169\n",
       "1.0    168\n",
       "5.0    167\n",
       "Name: Game #, dtype: int64"
      ]
     },
     "execution_count": 44,
     "metadata": {},
     "output_type": "execute_result"
    }
   ],
   "source": [
    "sixers_vs_celtics['Game #'].value_counts()"
   ]
  },
  {
   "cell_type": "code",
   "execution_count": 46,
   "metadata": {},
   "outputs": [],
   "source": [
    "sixers_vs_celtics.to_csv('sixers_vs_celtics.csv')"
   ]
  },
  {
   "cell_type": "markdown",
   "metadata": {},
   "source": [
    "# Cavs vs Celtics"
   ]
  },
  {
   "cell_type": "code",
   "execution_count": 47,
   "metadata": {},
   "outputs": [
    {
     "data": {
      "text/plain": [
       "41700302    172\n",
       "41700301    170\n",
       "41700304    166\n",
       "41700306    161\n",
       "41700305    159\n",
       "41700307    151\n",
       "41700303    150\n",
       "Name: GAME_ID, dtype: int64"
      ]
     },
     "execution_count": 47,
     "metadata": {},
     "output_type": "execute_result"
    }
   ],
   "source": [
    "cavsceltics=((play_off['HTM']=='CLE')&(play_off['VTM']=='BOS'))\n",
    "celticscavs=((play_off['HTM']==\"BOS\")&(play_off['VTM']=='CLE'))\n",
    "\n",
    "cavs_vs_celtics=play_off[(cavsceltics)|(celticscavs)]\n",
    "cavs_vs_celtics['GAME_ID'].value_counts()"
   ]
  },
  {
   "cell_type": "code",
   "execution_count": 48,
   "metadata": {},
   "outputs": [
    {
     "name": "stderr",
     "output_type": "stream",
     "text": [
      "/Users/Valli/anaconda3/lib/python3.7/site-packages/ipykernel_launcher.py:1: SettingWithCopyWarning: \n",
      "A value is trying to be set on a copy of a slice from a DataFrame.\n",
      "Try using .loc[row_indexer,col_indexer] = value instead\n",
      "\n",
      "See the caveats in the documentation: http://pandas.pydata.org/pandas-docs/stable/indexing.html#indexing-view-versus-copy\n",
      "  \"\"\"Entry point for launching an IPython kernel.\n",
      "/Users/Valli/anaconda3/lib/python3.7/site-packages/ipykernel_launcher.py:5: FutureWarning: get_value is deprecated and will be removed in a future release. Please use .at[] or .iat[] accessors instead\n",
      "  \"\"\"\n",
      "/Users/Valli/anaconda3/lib/python3.7/site-packages/ipykernel_launcher.py:8: FutureWarning: set_value is deprecated and will be removed in a future release. Please use .at[] or .iat[] accessors instead\n",
      "  \n",
      "/Users/Valli/anaconda3/lib/python3.7/site-packages/ipykernel_launcher.py:10: FutureWarning: set_value is deprecated and will be removed in a future release. Please use .at[] or .iat[] accessors instead\n",
      "  # Remove the CWD from sys.path while we load stuff.\n",
      "/Users/Valli/anaconda3/lib/python3.7/site-packages/ipykernel_launcher.py:12: FutureWarning: set_value is deprecated and will be removed in a future release. Please use .at[] or .iat[] accessors instead\n",
      "  if sys.path[0] == '':\n",
      "/Users/Valli/anaconda3/lib/python3.7/site-packages/ipykernel_launcher.py:14: FutureWarning: set_value is deprecated and will be removed in a future release. Please use .at[] or .iat[] accessors instead\n",
      "  \n",
      "/Users/Valli/anaconda3/lib/python3.7/site-packages/ipykernel_launcher.py:16: FutureWarning: set_value is deprecated and will be removed in a future release. Please use .at[] or .iat[] accessors instead\n",
      "  app.launch_new_instance()\n",
      "/Users/Valli/anaconda3/lib/python3.7/site-packages/ipykernel_launcher.py:18: FutureWarning: set_value is deprecated and will be removed in a future release. Please use .at[] or .iat[] accessors instead\n",
      "/Users/Valli/anaconda3/lib/python3.7/site-packages/ipykernel_launcher.py:20: FutureWarning: set_value is deprecated and will be removed in a future release. Please use .at[] or .iat[] accessors instead\n"
     ]
    }
   ],
   "source": [
    "cavs_vs_celtics['Game #']=np.nan\n",
    "\n",
    "for index, row in cavs_vs_celtics.iterrows():\n",
    "    \n",
    "    game_id=cavs_vs_celtics.get_value(index,'GAME_ID')\n",
    "    \n",
    "    if game_id==41700301:\n",
    "        cavs_vs_celtics.set_value(index,'Game #',1)\n",
    "    elif game_id==41700302:\n",
    "        cavs_vs_celtics.set_value(index,'Game #',2)\n",
    "    elif game_id==41700303:\n",
    "        cavs_vs_celtics.set_value(index,'Game #',3)\n",
    "    elif game_id==41700304:\n",
    "        cavs_vs_celtics.set_value(index,'Game #',4)\n",
    "    elif game_id==41700305:\n",
    "        cavs_vs_celtics.set_value(index,'Game #',5)\n",
    "    elif game_id==41700306:\n",
    "        cavs_vs_celtics.set_value(index,'Game #',6)\n",
    "    elif game_id==41700307:\n",
    "        cavs_vs_celtics.set_value(index,'Game #',7)"
   ]
  },
  {
   "cell_type": "code",
   "execution_count": 49,
   "metadata": {},
   "outputs": [
    {
     "data": {
      "text/plain": [
       "2.0    172\n",
       "1.0    170\n",
       "4.0    166\n",
       "6.0    161\n",
       "5.0    159\n",
       "7.0    151\n",
       "3.0    150\n",
       "Name: Game #, dtype: int64"
      ]
     },
     "execution_count": 49,
     "metadata": {},
     "output_type": "execute_result"
    }
   ],
   "source": [
    "cavs_vs_celtics['Game #'].value_counts()"
   ]
  },
  {
   "cell_type": "code",
   "execution_count": 50,
   "metadata": {},
   "outputs": [],
   "source": [
    "cavs_vs_celtics.to_csv('cavs_vs_celtics.csv')"
   ]
  },
  {
   "cell_type": "markdown",
   "metadata": {},
   "source": [
    "# Warriors vs Cavs"
   ]
  },
  {
   "cell_type": "code",
   "execution_count": 51,
   "metadata": {},
   "outputs": [
    {
     "data": {
      "text/plain": [
       "41700401    189\n",
       "41700402    172\n",
       "Name: GAME_ID, dtype: int64"
      ]
     },
     "execution_count": 51,
     "metadata": {},
     "output_type": "execute_result"
    }
   ],
   "source": [
    "cavswars=((play_off['HTM']=='CLE')&(play_off['VTM']=='GSW'))\n",
    "warscavs=((play_off['HTM']==\"GSW\")&(play_off['VTM']=='CLE'))\n",
    "\n",
    "cavs_vs_warriors=play_off[(cavswars)|(warscavs)]\n",
    "cavs_vs_warriors['GAME_ID'].value_counts()"
   ]
  },
  {
   "cell_type": "code",
   "execution_count": 52,
   "metadata": {},
   "outputs": [
    {
     "name": "stderr",
     "output_type": "stream",
     "text": [
      "/Users/Valli/anaconda3/lib/python3.7/site-packages/ipykernel_launcher.py:1: SettingWithCopyWarning: \n",
      "A value is trying to be set on a copy of a slice from a DataFrame.\n",
      "Try using .loc[row_indexer,col_indexer] = value instead\n",
      "\n",
      "See the caveats in the documentation: http://pandas.pydata.org/pandas-docs/stable/indexing.html#indexing-view-versus-copy\n",
      "  \"\"\"Entry point for launching an IPython kernel.\n",
      "/Users/Valli/anaconda3/lib/python3.7/site-packages/ipykernel_launcher.py:5: FutureWarning: get_value is deprecated and will be removed in a future release. Please use .at[] or .iat[] accessors instead\n",
      "  \"\"\"\n",
      "/Users/Valli/anaconda3/lib/python3.7/site-packages/ipykernel_launcher.py:8: FutureWarning: set_value is deprecated and will be removed in a future release. Please use .at[] or .iat[] accessors instead\n",
      "  \n",
      "/Users/Valli/anaconda3/lib/python3.7/site-packages/ipykernel_launcher.py:10: FutureWarning: set_value is deprecated and will be removed in a future release. Please use .at[] or .iat[] accessors instead\n",
      "  # Remove the CWD from sys.path while we load stuff.\n"
     ]
    }
   ],
   "source": [
    "cavs_vs_warriors['Game #']=np.nan\n",
    "\n",
    "for index, row in cavs_vs_warriors.iterrows():\n",
    "    \n",
    "    game_id=cavs_vs_warriors.get_value(index,'GAME_ID')\n",
    "    \n",
    "    if game_id==41700401:\n",
    "        cavs_vs_warriors.set_value(index,'Game #',1)\n",
    "    elif game_id==41700402:\n",
    "        cavs_vs_warriors.set_value(index,'Game #',2)"
   ]
  },
  {
   "cell_type": "code",
   "execution_count": 53,
   "metadata": {},
   "outputs": [
    {
     "data": {
      "text/plain": [
       "1.0    189\n",
       "2.0    172\n",
       "Name: Game #, dtype: int64"
      ]
     },
     "execution_count": 53,
     "metadata": {},
     "output_type": "execute_result"
    }
   ],
   "source": [
    "cavs_vs_warriors['Game #'].value_counts()"
   ]
  },
  {
   "cell_type": "code",
   "execution_count": 54,
   "metadata": {},
   "outputs": [],
   "source": [
    "cavs_vs_warriors.to_csv('cavs_vs_warriors.csv')"
   ]
  },
  {
   "cell_type": "markdown",
   "metadata": {},
   "source": [
    "# Rockets vs Warriors"
   ]
  },
  {
   "cell_type": "code",
   "execution_count": 55,
   "metadata": {},
   "outputs": [
    {
     "data": {
      "text/plain": [
       "41700313    173\n",
       "41700312    173\n",
       "41700317    170\n",
       "41700314    166\n",
       "41700311    165\n",
       "41700316    164\n",
       "41700315    150\n",
       "Name: GAME_ID, dtype: int64"
      ]
     },
     "execution_count": 55,
     "metadata": {},
     "output_type": "execute_result"
    }
   ],
   "source": [
    "rockswars=((play_off['HTM']=='HOU')&(play_off['VTM']=='GSW'))\n",
    "warsrocks=((play_off['HTM']==\"GSW\")&(play_off['VTM']=='HOU'))\n",
    "\n",
    "rockets_vs_warriors=play_off[(rockswars)|(warsrocks)]\n",
    "rockets_vs_warriors['GAME_ID'].value_counts()"
   ]
  },
  {
   "cell_type": "code",
   "execution_count": 56,
   "metadata": {},
   "outputs": [
    {
     "name": "stderr",
     "output_type": "stream",
     "text": [
      "/Users/Valli/anaconda3/lib/python3.7/site-packages/ipykernel_launcher.py:1: SettingWithCopyWarning: \n",
      "A value is trying to be set on a copy of a slice from a DataFrame.\n",
      "Try using .loc[row_indexer,col_indexer] = value instead\n",
      "\n",
      "See the caveats in the documentation: http://pandas.pydata.org/pandas-docs/stable/indexing.html#indexing-view-versus-copy\n",
      "  \"\"\"Entry point for launching an IPython kernel.\n",
      "/Users/Valli/anaconda3/lib/python3.7/site-packages/ipykernel_launcher.py:5: FutureWarning: get_value is deprecated and will be removed in a future release. Please use .at[] or .iat[] accessors instead\n",
      "  \"\"\"\n",
      "/Users/Valli/anaconda3/lib/python3.7/site-packages/ipykernel_launcher.py:8: FutureWarning: set_value is deprecated and will be removed in a future release. Please use .at[] or .iat[] accessors instead\n",
      "  \n",
      "/Users/Valli/anaconda3/lib/python3.7/site-packages/ipykernel_launcher.py:10: FutureWarning: set_value is deprecated and will be removed in a future release. Please use .at[] or .iat[] accessors instead\n",
      "  # Remove the CWD from sys.path while we load stuff.\n",
      "/Users/Valli/anaconda3/lib/python3.7/site-packages/ipykernel_launcher.py:12: FutureWarning: set_value is deprecated and will be removed in a future release. Please use .at[] or .iat[] accessors instead\n",
      "  if sys.path[0] == '':\n",
      "/Users/Valli/anaconda3/lib/python3.7/site-packages/ipykernel_launcher.py:14: FutureWarning: set_value is deprecated and will be removed in a future release. Please use .at[] or .iat[] accessors instead\n",
      "  \n",
      "/Users/Valli/anaconda3/lib/python3.7/site-packages/ipykernel_launcher.py:16: FutureWarning: set_value is deprecated and will be removed in a future release. Please use .at[] or .iat[] accessors instead\n",
      "  app.launch_new_instance()\n",
      "/Users/Valli/anaconda3/lib/python3.7/site-packages/ipykernel_launcher.py:18: FutureWarning: set_value is deprecated and will be removed in a future release. Please use .at[] or .iat[] accessors instead\n",
      "/Users/Valli/anaconda3/lib/python3.7/site-packages/ipykernel_launcher.py:20: FutureWarning: set_value is deprecated and will be removed in a future release. Please use .at[] or .iat[] accessors instead\n"
     ]
    }
   ],
   "source": [
    "rockets_vs_warriors['Game #']=np.nan\n",
    "\n",
    "for index, row in rockets_vs_warriors.iterrows():\n",
    "    \n",
    "    game_id=rockets_vs_warriors.get_value(index,'GAME_ID')\n",
    "    \n",
    "    if game_id==41700311:\n",
    "        rockets_vs_warriors.set_value(index,'Game #',1)\n",
    "    elif game_id==41700312:\n",
    "        rockets_vs_warriors.set_value(index,'Game #',2)\n",
    "    elif game_id==41700313:\n",
    "        rockets_vs_warriors.set_value(index,'Game #',3)\n",
    "    elif game_id==41700314:\n",
    "        rockets_vs_warriors.set_value(index,'Game #',4)\n",
    "    elif game_id==41700315:\n",
    "        rockets_vs_warriors.set_value(index,'Game #',5)\n",
    "    elif game_id==41700316:\n",
    "        rockets_vs_warriors.set_value(index,'Game #',6)\n",
    "    elif game_id==41700317:\n",
    "        rockets_vs_warriors.set_value(index,'Game #',7)"
   ]
  },
  {
   "cell_type": "code",
   "execution_count": 57,
   "metadata": {},
   "outputs": [],
   "source": [
    "rockets_vs_warriors.to_csv('rockets_vs_warriors.csv')"
   ]
  },
  {
   "cell_type": "markdown",
   "metadata": {},
   "source": [
    "# Rockets vs Jazz"
   ]
  },
  {
   "cell_type": "code",
   "execution_count": 58,
   "metadata": {},
   "outputs": [
    {
     "data": {
      "text/plain": [
       "41700222    178\n",
       "41700224    171\n",
       "41700223    170\n",
       "41700225    164\n",
       "41700221    158\n",
       "Name: GAME_ID, dtype: int64"
      ]
     },
     "execution_count": 58,
     "metadata": {},
     "output_type": "execute_result"
    }
   ],
   "source": [
    "rockjazz=((play_off['HTM']=='HOU')&(play_off['VTM']=='UTA'))\n",
    "jazzrock=((play_off['HTM']==\"UTA\")&(play_off['VTM']=='HOU'))\n",
    "\n",
    "rockets_vs_jazz=play_off[(rockjazz)|(jazzrock)]\n",
    "rockets_vs_jazz['GAME_ID'].value_counts()"
   ]
  },
  {
   "cell_type": "code",
   "execution_count": 59,
   "metadata": {},
   "outputs": [
    {
     "name": "stderr",
     "output_type": "stream",
     "text": [
      "/Users/Valli/anaconda3/lib/python3.7/site-packages/ipykernel_launcher.py:1: SettingWithCopyWarning: \n",
      "A value is trying to be set on a copy of a slice from a DataFrame.\n",
      "Try using .loc[row_indexer,col_indexer] = value instead\n",
      "\n",
      "See the caveats in the documentation: http://pandas.pydata.org/pandas-docs/stable/indexing.html#indexing-view-versus-copy\n",
      "  \"\"\"Entry point for launching an IPython kernel.\n",
      "/Users/Valli/anaconda3/lib/python3.7/site-packages/ipykernel_launcher.py:5: FutureWarning: get_value is deprecated and will be removed in a future release. Please use .at[] or .iat[] accessors instead\n",
      "  \"\"\"\n",
      "/Users/Valli/anaconda3/lib/python3.7/site-packages/ipykernel_launcher.py:8: FutureWarning: set_value is deprecated and will be removed in a future release. Please use .at[] or .iat[] accessors instead\n",
      "  \n",
      "/Users/Valli/anaconda3/lib/python3.7/site-packages/ipykernel_launcher.py:10: FutureWarning: set_value is deprecated and will be removed in a future release. Please use .at[] or .iat[] accessors instead\n",
      "  # Remove the CWD from sys.path while we load stuff.\n",
      "/Users/Valli/anaconda3/lib/python3.7/site-packages/ipykernel_launcher.py:12: FutureWarning: set_value is deprecated and will be removed in a future release. Please use .at[] or .iat[] accessors instead\n",
      "  if sys.path[0] == '':\n",
      "/Users/Valli/anaconda3/lib/python3.7/site-packages/ipykernel_launcher.py:14: FutureWarning: set_value is deprecated and will be removed in a future release. Please use .at[] or .iat[] accessors instead\n",
      "  \n",
      "/Users/Valli/anaconda3/lib/python3.7/site-packages/ipykernel_launcher.py:16: FutureWarning: set_value is deprecated and will be removed in a future release. Please use .at[] or .iat[] accessors instead\n",
      "  app.launch_new_instance()\n"
     ]
    }
   ],
   "source": [
    "rockets_vs_jazz['Game #']=np.nan\n",
    "\n",
    "for index, row in rockets_vs_jazz.iterrows():\n",
    "    \n",
    "    game_id=rockets_vs_jazz.get_value(index,'GAME_ID')\n",
    "    \n",
    "    if game_id==41700221:\n",
    "        rockets_vs_jazz.set_value(index,'Game #',1)\n",
    "    elif game_id==41700222:\n",
    "        rockets_vs_jazz.set_value(index,'Game #',2)\n",
    "    elif game_id==41700223:\n",
    "        rockets_vs_jazz.set_value(index,'Game #',3)\n",
    "    elif game_id==41700224:\n",
    "        rockets_vs_jazz.set_value(index,'Game #',4)\n",
    "    elif game_id==41700225:\n",
    "        rockets_vs_jazz.set_value(index,'Game #',5)"
   ]
  },
  {
   "cell_type": "code",
   "execution_count": 60,
   "metadata": {},
   "outputs": [],
   "source": [
    "rockets_vs_jazz.to_csv('rockets_vs_jazz.csv')"
   ]
  },
  {
   "cell_type": "markdown",
   "metadata": {},
   "source": [
    "# Pelicans vs Warriors"
   ]
  },
  {
   "cell_type": "code",
   "execution_count": 61,
   "metadata": {},
   "outputs": [
    {
     "data": {
      "text/plain": [
       "41700232    196\n",
       "41700233    188\n",
       "41700235    187\n",
       "41700231    187\n",
       "41700234    183\n",
       "Name: GAME_ID, dtype: int64"
      ]
     },
     "execution_count": 61,
     "metadata": {},
     "output_type": "execute_result"
    }
   ],
   "source": [
    "pelicanswar=((play_off['HTM']=='NOP')&(play_off['VTM']=='GSW'))\n",
    "warpelicans=((play_off['HTM']==\"GSW\")&(play_off['VTM']=='NOP'))\n",
    "\n",
    "pelicans_vs_warriors=play_off[(pelicanswar)|(warpelicans)]\n",
    "pelicans_vs_warriors['GAME_ID'].value_counts()"
   ]
  },
  {
   "cell_type": "code",
   "execution_count": 62,
   "metadata": {},
   "outputs": [
    {
     "name": "stderr",
     "output_type": "stream",
     "text": [
      "/Users/Valli/anaconda3/lib/python3.7/site-packages/ipykernel_launcher.py:1: SettingWithCopyWarning: \n",
      "A value is trying to be set on a copy of a slice from a DataFrame.\n",
      "Try using .loc[row_indexer,col_indexer] = value instead\n",
      "\n",
      "See the caveats in the documentation: http://pandas.pydata.org/pandas-docs/stable/indexing.html#indexing-view-versus-copy\n",
      "  \"\"\"Entry point for launching an IPython kernel.\n",
      "/Users/Valli/anaconda3/lib/python3.7/site-packages/ipykernel_launcher.py:5: FutureWarning: get_value is deprecated and will be removed in a future release. Please use .at[] or .iat[] accessors instead\n",
      "  \"\"\"\n",
      "/Users/Valli/anaconda3/lib/python3.7/site-packages/ipykernel_launcher.py:8: FutureWarning: set_value is deprecated and will be removed in a future release. Please use .at[] or .iat[] accessors instead\n",
      "  \n",
      "/Users/Valli/anaconda3/lib/python3.7/site-packages/ipykernel_launcher.py:10: FutureWarning: set_value is deprecated and will be removed in a future release. Please use .at[] or .iat[] accessors instead\n",
      "  # Remove the CWD from sys.path while we load stuff.\n",
      "/Users/Valli/anaconda3/lib/python3.7/site-packages/ipykernel_launcher.py:12: FutureWarning: set_value is deprecated and will be removed in a future release. Please use .at[] or .iat[] accessors instead\n",
      "  if sys.path[0] == '':\n",
      "/Users/Valli/anaconda3/lib/python3.7/site-packages/ipykernel_launcher.py:14: FutureWarning: set_value is deprecated and will be removed in a future release. Please use .at[] or .iat[] accessors instead\n",
      "  \n",
      "/Users/Valli/anaconda3/lib/python3.7/site-packages/ipykernel_launcher.py:16: FutureWarning: set_value is deprecated and will be removed in a future release. Please use .at[] or .iat[] accessors instead\n",
      "  app.launch_new_instance()\n"
     ]
    }
   ],
   "source": [
    "pelicans_vs_warriors['Game #']=np.nan\n",
    "\n",
    "for index, row in pelicans_vs_warriors.iterrows():\n",
    "    \n",
    "    game_id=pelicans_vs_warriors.get_value(index,'GAME_ID')\n",
    "    \n",
    "    if game_id==41700231:\n",
    "        pelicans_vs_warriors.set_value(index,'Game #',1)\n",
    "    elif game_id==41700232:\n",
    "        pelicans_vs_warriors.set_value(index,'Game #',2)\n",
    "    elif game_id==41700233:\n",
    "        pelicans_vs_warriors.set_value(index,'Game #',3)\n",
    "    elif game_id==41700234:\n",
    "        pelicans_vs_warriors.set_value(index,'Game #',4)\n",
    "    elif game_id==41700235:\n",
    "        pelicans_vs_warriors.set_value(index,'Game #',5)"
   ]
  },
  {
   "cell_type": "code",
   "execution_count": 63,
   "metadata": {},
   "outputs": [],
   "source": [
    "pelicans_vs_warriors.to_csv('pelicans_vs_warriors.csv')"
   ]
  },
  {
   "cell_type": "markdown",
   "metadata": {},
   "source": [
    "# Warriors vs Spurs"
   ]
  },
  {
   "cell_type": "code",
   "execution_count": 64,
   "metadata": {},
   "outputs": [
    {
     "data": {
      "text/plain": [
       "41700154    171\n",
       "41700155    169\n",
       "41700153    169\n",
       "41700152    163\n",
       "41700151    161\n",
       "Name: GAME_ID, dtype: int64"
      ]
     },
     "execution_count": 64,
     "metadata": {},
     "output_type": "execute_result"
    }
   ],
   "source": [
    "spurwar=((play_off['HTM']=='SAS')&(play_off['VTM']=='GSW'))\n",
    "warspur=((play_off['HTM']==\"GSW\")&(play_off['VTM']=='SAS'))\n",
    "\n",
    "spurs_vs_warriors=play_off[(spurwar)|(warspur)]\n",
    "spurs_vs_warriors['GAME_ID'].value_counts()"
   ]
  },
  {
   "cell_type": "code",
   "execution_count": 65,
   "metadata": {},
   "outputs": [
    {
     "name": "stderr",
     "output_type": "stream",
     "text": [
      "/Users/Valli/anaconda3/lib/python3.7/site-packages/ipykernel_launcher.py:1: SettingWithCopyWarning: \n",
      "A value is trying to be set on a copy of a slice from a DataFrame.\n",
      "Try using .loc[row_indexer,col_indexer] = value instead\n",
      "\n",
      "See the caveats in the documentation: http://pandas.pydata.org/pandas-docs/stable/indexing.html#indexing-view-versus-copy\n",
      "  \"\"\"Entry point for launching an IPython kernel.\n",
      "/Users/Valli/anaconda3/lib/python3.7/site-packages/ipykernel_launcher.py:5: FutureWarning: get_value is deprecated and will be removed in a future release. Please use .at[] or .iat[] accessors instead\n",
      "  \"\"\"\n",
      "/Users/Valli/anaconda3/lib/python3.7/site-packages/ipykernel_launcher.py:8: FutureWarning: set_value is deprecated and will be removed in a future release. Please use .at[] or .iat[] accessors instead\n",
      "  \n",
      "/Users/Valli/anaconda3/lib/python3.7/site-packages/ipykernel_launcher.py:10: FutureWarning: set_value is deprecated and will be removed in a future release. Please use .at[] or .iat[] accessors instead\n",
      "  # Remove the CWD from sys.path while we load stuff.\n",
      "/Users/Valli/anaconda3/lib/python3.7/site-packages/ipykernel_launcher.py:12: FutureWarning: set_value is deprecated and will be removed in a future release. Please use .at[] or .iat[] accessors instead\n",
      "  if sys.path[0] == '':\n",
      "/Users/Valli/anaconda3/lib/python3.7/site-packages/ipykernel_launcher.py:14: FutureWarning: set_value is deprecated and will be removed in a future release. Please use .at[] or .iat[] accessors instead\n",
      "  \n",
      "/Users/Valli/anaconda3/lib/python3.7/site-packages/ipykernel_launcher.py:16: FutureWarning: set_value is deprecated and will be removed in a future release. Please use .at[] or .iat[] accessors instead\n",
      "  app.launch_new_instance()\n"
     ]
    }
   ],
   "source": [
    "spurs_vs_warriors['Game #']=np.nan\n",
    "\n",
    "for index, row in spurs_vs_warriors.iterrows():\n",
    "    \n",
    "    game_id=spurs_vs_warriors.get_value(index,'GAME_ID')\n",
    "    \n",
    "    if game_id==41700151:\n",
    "        spurs_vs_warriors.set_value(index,'Game #',1)\n",
    "    elif game_id==41700152:\n",
    "        spurs_vs_warriors.set_value(index,'Game #',2)\n",
    "    elif game_id==41700153:\n",
    "        spurs_vs_warriors.set_value(index,'Game #',3)\n",
    "    elif game_id==41700154:\n",
    "        spurs_vs_warriors.set_value(index,'Game #',4)\n",
    "    elif game_id==41700155:\n",
    "        spurs_vs_warriors.set_value(index,'Game #',5)"
   ]
  },
  {
   "cell_type": "code",
   "execution_count": 66,
   "metadata": {},
   "outputs": [],
   "source": [
    "spurs_vs_warriors.to_csv('spurs_vs_warriors.csv')"
   ]
  },
  {
   "cell_type": "markdown",
   "metadata": {},
   "source": [
    "# Pelicans vs TrailBlazers"
   ]
  },
  {
   "cell_type": "code",
   "execution_count": 67,
   "metadata": {},
   "outputs": [
    {
     "data": {
      "text/plain": [
       "41700161    184\n",
       "41700162    175\n",
       "41700164    173\n",
       "41700163    167\n",
       "Name: GAME_ID, dtype: int64"
      ]
     },
     "execution_count": 67,
     "metadata": {},
     "output_type": "execute_result"
    }
   ],
   "source": [
    "peltrail=((play_off['HTM']=='NOP')&(play_off['VTM']=='POR'))\n",
    "trailpel=((play_off['HTM']==\"POR\")&(play_off['VTM']=='NOP'))\n",
    "\n",
    "pelicans_vs_trailblazers=play_off[(peltrail)|(trailpel)]\n",
    "pelicans_vs_trailblazers['GAME_ID'].value_counts()"
   ]
  },
  {
   "cell_type": "code",
   "execution_count": 68,
   "metadata": {},
   "outputs": [
    {
     "name": "stderr",
     "output_type": "stream",
     "text": [
      "/Users/Valli/anaconda3/lib/python3.7/site-packages/ipykernel_launcher.py:1: SettingWithCopyWarning: \n",
      "A value is trying to be set on a copy of a slice from a DataFrame.\n",
      "Try using .loc[row_indexer,col_indexer] = value instead\n",
      "\n",
      "See the caveats in the documentation: http://pandas.pydata.org/pandas-docs/stable/indexing.html#indexing-view-versus-copy\n",
      "  \"\"\"Entry point for launching an IPython kernel.\n",
      "/Users/Valli/anaconda3/lib/python3.7/site-packages/ipykernel_launcher.py:5: FutureWarning: get_value is deprecated and will be removed in a future release. Please use .at[] or .iat[] accessors instead\n",
      "  \"\"\"\n",
      "/Users/Valli/anaconda3/lib/python3.7/site-packages/ipykernel_launcher.py:8: FutureWarning: set_value is deprecated and will be removed in a future release. Please use .at[] or .iat[] accessors instead\n",
      "  \n",
      "/Users/Valli/anaconda3/lib/python3.7/site-packages/ipykernel_launcher.py:10: FutureWarning: set_value is deprecated and will be removed in a future release. Please use .at[] or .iat[] accessors instead\n",
      "  # Remove the CWD from sys.path while we load stuff.\n",
      "/Users/Valli/anaconda3/lib/python3.7/site-packages/ipykernel_launcher.py:12: FutureWarning: set_value is deprecated and will be removed in a future release. Please use .at[] or .iat[] accessors instead\n",
      "  if sys.path[0] == '':\n",
      "/Users/Valli/anaconda3/lib/python3.7/site-packages/ipykernel_launcher.py:14: FutureWarning: set_value is deprecated and will be removed in a future release. Please use .at[] or .iat[] accessors instead\n",
      "  \n"
     ]
    }
   ],
   "source": [
    "pelicans_vs_trailblazers['Game #']=np.nan\n",
    "\n",
    "for index, row in pelicans_vs_trailblazers.iterrows():\n",
    "    \n",
    "    game_id=pelicans_vs_trailblazers.get_value(index,'GAME_ID')\n",
    "    \n",
    "    if game_id==41700161:\n",
    "        pelicans_vs_trailblazers.set_value(index,'Game #',1)\n",
    "    elif game_id==41700162:\n",
    "        pelicans_vs_trailblazers.set_value(index,'Game #',2)\n",
    "    elif game_id==41700163:\n",
    "        pelicans_vs_trailblazers.set_value(index,'Game #',3)\n",
    "    elif game_id==41700164:\n",
    "        pelicans_vs_trailblazers.set_value(index,'Game #',4)"
   ]
  },
  {
   "cell_type": "code",
   "execution_count": 69,
   "metadata": {},
   "outputs": [],
   "source": [
    "pelicans_vs_trailblazers.to_csv('pelicans_vs_trailblazers.csv')"
   ]
  },
  {
   "cell_type": "markdown",
   "metadata": {},
   "source": [
    "# Thunder vs Jazz"
   ]
  },
  {
   "cell_type": "code",
   "execution_count": 70,
   "metadata": {},
   "outputs": [
    {
     "data": {
      "text/plain": [
       "41700176    175\n",
       "41700174    175\n",
       "41700172    174\n",
       "41700171    172\n",
       "41700175    170\n",
       "41700173    158\n",
       "Name: GAME_ID, dtype: int64"
      ]
     },
     "execution_count": 70,
     "metadata": {},
     "output_type": "execute_result"
    }
   ],
   "source": [
    "thunderjazz=((play_off['HTM']=='OKC')&(play_off['VTM']=='UTA'))\n",
    "jazzthunder=((play_off['HTM']==\"UTA\")&(play_off['VTM']=='OKC'))\n",
    "\n",
    "thunder_vs_jazz=play_off[(thunderjazz)|(jazzthunder)]\n",
    "thunder_vs_jazz['GAME_ID'].value_counts()"
   ]
  },
  {
   "cell_type": "code",
   "execution_count": 71,
   "metadata": {},
   "outputs": [
    {
     "name": "stderr",
     "output_type": "stream",
     "text": [
      "/Users/Valli/anaconda3/lib/python3.7/site-packages/ipykernel_launcher.py:1: SettingWithCopyWarning: \n",
      "A value is trying to be set on a copy of a slice from a DataFrame.\n",
      "Try using .loc[row_indexer,col_indexer] = value instead\n",
      "\n",
      "See the caveats in the documentation: http://pandas.pydata.org/pandas-docs/stable/indexing.html#indexing-view-versus-copy\n",
      "  \"\"\"Entry point for launching an IPython kernel.\n",
      "/Users/Valli/anaconda3/lib/python3.7/site-packages/ipykernel_launcher.py:5: FutureWarning: get_value is deprecated and will be removed in a future release. Please use .at[] or .iat[] accessors instead\n",
      "  \"\"\"\n",
      "/Users/Valli/anaconda3/lib/python3.7/site-packages/ipykernel_launcher.py:8: FutureWarning: set_value is deprecated and will be removed in a future release. Please use .at[] or .iat[] accessors instead\n",
      "  \n",
      "/Users/Valli/anaconda3/lib/python3.7/site-packages/ipykernel_launcher.py:12: FutureWarning: set_value is deprecated and will be removed in a future release. Please use .at[] or .iat[] accessors instead\n",
      "  if sys.path[0] == '':\n",
      "/Users/Valli/anaconda3/lib/python3.7/site-packages/ipykernel_launcher.py:14: FutureWarning: set_value is deprecated and will be removed in a future release. Please use .at[] or .iat[] accessors instead\n",
      "  \n",
      "/Users/Valli/anaconda3/lib/python3.7/site-packages/ipykernel_launcher.py:16: FutureWarning: set_value is deprecated and will be removed in a future release. Please use .at[] or .iat[] accessors instead\n",
      "  app.launch_new_instance()\n",
      "/Users/Valli/anaconda3/lib/python3.7/site-packages/ipykernel_launcher.py:18: FutureWarning: set_value is deprecated and will be removed in a future release. Please use .at[] or .iat[] accessors instead\n"
     ]
    }
   ],
   "source": [
    "thunder_vs_jazz['Game #']=np.nan\n",
    "\n",
    "for index, row in thunder_vs_jazz.iterrows():\n",
    "    \n",
    "    game_id=thunder_vs_jazz.get_value(index,'GAME_ID')\n",
    "    \n",
    "    if game_id==41700171:\n",
    "        thunder_vs_jazz.set_value(index,'Game #',1)\n",
    "    elif game_id==41700272:\n",
    "        thunder_vs_jazz.set_value(index,'Game #',2)\n",
    "    elif game_id==41700173:\n",
    "        thunder_vs_jazz.set_value(index,'Game #',3)\n",
    "    elif game_id==41700174:\n",
    "        thunder_vs_jazz.set_value(index,'Game #',4)\n",
    "    elif game_id==41700175:\n",
    "        thunder_vs_jazz.set_value(index,'Game #',5)\n",
    "    elif game_id==41700176:\n",
    "        thunder_vs_jazz.set_value(index,'Game #',6) "
   ]
  },
  {
   "cell_type": "code",
   "execution_count": 72,
   "metadata": {},
   "outputs": [],
   "source": [
    "thunder_vs_jazz.to_csv('thunder_vs_jazz.csv')"
   ]
  },
  {
   "cell_type": "markdown",
   "metadata": {},
   "source": [
    "# Rockets vs Timberwolves"
   ]
  },
  {
   "cell_type": "code",
   "execution_count": 73,
   "metadata": {},
   "outputs": [
    {
     "data": {
      "text/plain": [
       "41700144    176\n",
       "41700142    176\n",
       "41700143    171\n",
       "41700145    167\n",
       "41700141    163\n",
       "Name: GAME_ID, dtype: int64"
      ]
     },
     "execution_count": 73,
     "metadata": {},
     "output_type": "execute_result"
    }
   ],
   "source": [
    "timbrock=((play_off['HTM']=='MIN')&(play_off['VTM']=='HOU'))\n",
    "rocktimb=((play_off['HTM']==\"HOU\")&(play_off['VTM']=='MIN'))\n",
    "\n",
    "rockets_vs_timberwolves=play_off[(timbrock)|(rocktimb)]\n",
    "rockets_vs_timberwolves['GAME_ID'].value_counts()"
   ]
  },
  {
   "cell_type": "code",
   "execution_count": 74,
   "metadata": {},
   "outputs": [
    {
     "name": "stderr",
     "output_type": "stream",
     "text": [
      "/Users/Valli/anaconda3/lib/python3.7/site-packages/ipykernel_launcher.py:1: SettingWithCopyWarning: \n",
      "A value is trying to be set on a copy of a slice from a DataFrame.\n",
      "Try using .loc[row_indexer,col_indexer] = value instead\n",
      "\n",
      "See the caveats in the documentation: http://pandas.pydata.org/pandas-docs/stable/indexing.html#indexing-view-versus-copy\n",
      "  \"\"\"Entry point for launching an IPython kernel.\n",
      "/Users/Valli/anaconda3/lib/python3.7/site-packages/ipykernel_launcher.py:5: FutureWarning: get_value is deprecated and will be removed in a future release. Please use .at[] or .iat[] accessors instead\n",
      "  \"\"\"\n",
      "/Users/Valli/anaconda3/lib/python3.7/site-packages/ipykernel_launcher.py:8: FutureWarning: set_value is deprecated and will be removed in a future release. Please use .at[] or .iat[] accessors instead\n",
      "  \n",
      "/Users/Valli/anaconda3/lib/python3.7/site-packages/ipykernel_launcher.py:10: FutureWarning: set_value is deprecated and will be removed in a future release. Please use .at[] or .iat[] accessors instead\n",
      "  # Remove the CWD from sys.path while we load stuff.\n",
      "/Users/Valli/anaconda3/lib/python3.7/site-packages/ipykernel_launcher.py:12: FutureWarning: set_value is deprecated and will be removed in a future release. Please use .at[] or .iat[] accessors instead\n",
      "  if sys.path[0] == '':\n",
      "/Users/Valli/anaconda3/lib/python3.7/site-packages/ipykernel_launcher.py:14: FutureWarning: set_value is deprecated and will be removed in a future release. Please use .at[] or .iat[] accessors instead\n",
      "  \n",
      "/Users/Valli/anaconda3/lib/python3.7/site-packages/ipykernel_launcher.py:16: FutureWarning: set_value is deprecated and will be removed in a future release. Please use .at[] or .iat[] accessors instead\n",
      "  app.launch_new_instance()\n"
     ]
    }
   ],
   "source": [
    "rockets_vs_timberwolves['Game #']=np.nan\n",
    "\n",
    "for index, row in rockets_vs_timberwolves.iterrows():\n",
    "    \n",
    "    game_id=rockets_vs_timberwolves.get_value(index,'GAME_ID')\n",
    "    \n",
    "    if game_id==41700141:\n",
    "        rockets_vs_timberwolves.set_value(index,'Game #',1)\n",
    "    elif game_id==41700142:\n",
    "        rockets_vs_timberwolves.set_value(index,'Game #',2)\n",
    "    elif game_id==41700143:\n",
    "        rockets_vs_timberwolves.set_value(index,'Game #',3)\n",
    "    elif game_id==41700144:\n",
    "        rockets_vs_timberwolves.set_value(index,'Game #',4)\n",
    "    elif game_id==41700145:\n",
    "        rockets_vs_timberwolves.set_value(index,'Game #',5)"
   ]
  },
  {
   "cell_type": "code",
   "execution_count": 76,
   "metadata": {},
   "outputs": [],
   "source": [
    "rockets_vs_timberwolves.to_csv('rockets_vs_timberwolves.csv')"
   ]
  }
 ],
 "metadata": {
  "kernelspec": {
   "display_name": "Python 3",
   "language": "python",
   "name": "python3"
  },
  "language_info": {
   "codemirror_mode": {
    "name": "ipython",
    "version": 3
   },
   "file_extension": ".py",
   "mimetype": "text/x-python",
   "name": "python",
   "nbconvert_exporter": "python",
   "pygments_lexer": "ipython3",
   "version": "3.7.0"
  }
 },
 "nbformat": 4,
 "nbformat_minor": 2
}
