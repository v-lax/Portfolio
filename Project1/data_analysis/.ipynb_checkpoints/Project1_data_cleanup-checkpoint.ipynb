{
 "cells": [
  {
   "cell_type": "code",
   "execution_count": null,
   "metadata": {},
   "outputs": [],
   "source": [
    "import pandas as pd\n",
    "import numpy as np \n",
    "import requests"
   ]
  },
  {
   "cell_type": "code",
   "execution_count": 4,
   "metadata": {},
   "outputs": [],
   "source": [
    "shots_url='http://stats.nba.com/stats/shotchartdetail?CFID=33&CFPAR;'\\\n",
    "                'AMS=2014-15&ContextFilter;=&ContextMeasure;=FGA&DateFrom;=&D;'\\\n",
    "                'ateTo=&GameID;=&GameSegment;=&LastNGames;=0&LeagueID;=00&Loca;'\\\n",
    "                'tion=&MeasureType;=Base&Month;=0&OpponentTeamID;=0&Outcome;=&'\\\n",
    "                'PaceAdjust=N&PerMode;=PerGame&Period;=0&PlayerID;=201935&Plu;'\\\n",
    "                'sMinus=N&Position;=&Rank;=N&RookieYear;=&Season;=2014-15&Seas;'\\\n",
    "                'onSegment=&SeasonType;=Regular+Season&TeamID;=0&VsConferenc;'\\\n",
    "                'e=&VsDivision;=&mode;=Advanced&showDetails;=0&showShots;=1&sh;'\\\n",
    "                'owZones=0'"
   ]
  },
  {
   "cell_type": "code",
   "execution_count": null,
   "metadata": {},
   "outputs": [],
   "source": [
    "response= requests.get(shots_url)"
   ]
  },
  {
   "cell_type": "code",
   "execution_count": null,
   "metadata": {},
   "outputs": [],
   "source": []
  }
 ],
 "metadata": {
  "kernelspec": {
   "display_name": "Python 3",
   "language": "python",
   "name": "python3"
  },
  "language_info": {
   "codemirror_mode": {
    "name": "ipython",
    "version": 3
   },
   "file_extension": ".py",
   "mimetype": "text/x-python",
   "name": "python",
   "nbconvert_exporter": "python",
   "pygments_lexer": "ipython3",
   "version": "3.7.0"
  }
 },
 "nbformat": 4,
 "nbformat_minor": 2
}
