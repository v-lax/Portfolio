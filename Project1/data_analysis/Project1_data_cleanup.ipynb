{
 "cells": [
  {
   "cell_type": "code",
   "execution_count": 1,
   "metadata": {},
   "outputs": [],
   "source": [
    "import pandas as pd\n",
    "import numpy as np "
   ]
  },
  {
   "cell_type": "code",
   "execution_count": 2,
   "metadata": {},
   "outputs": [],
   "source": [
    "play_off=pd.read_csv('playoff_shots.csv')\n"
   ]
  },
  {
   "cell_type": "code",
   "execution_count": 3,
   "metadata": {},
   "outputs": [
    {
     "name": "stdout",
     "output_type": "stream",
     "text": [
      "<class 'pandas.core.frame.DataFrame'>\n",
      "RangeIndex: 13470 entries, 0 to 13469\n",
      "Data columns (total 24 columns):\n",
      "GRID_TYPE              13470 non-null object\n",
      "GAME_ID                13470 non-null int64\n",
      "GAME_EVENT_ID          13470 non-null int64\n",
      "PLAYER_ID              13470 non-null int64\n",
      "PLAYER_NAME            13470 non-null object\n",
      "TEAM_ID                13470 non-null int64\n",
      "TEAM_NAME              13470 non-null object\n",
      "PERIOD                 13470 non-null int64\n",
      "MINUTES_REMAINING      13470 non-null int64\n",
      "SECONDS_REMAINING      13470 non-null int64\n",
      "EVENT_TYPE             13470 non-null object\n",
      "ACTION_TYPE            13470 non-null object\n",
      "SHOT_TYPE              13470 non-null object\n",
      "SHOT_ZONE_BASIC        13470 non-null object\n",
      "SHOT_ZONE_AREA         13470 non-null object\n",
      "SHOT_ZONE_RANGE        13470 non-null object\n",
      "SHOT_DISTANCE          13470 non-null int64\n",
      "LOC_X                  13470 non-null int64\n",
      "LOC_Y                  13470 non-null int64\n",
      "SHOT_ATTEMPTED_FLAG    13470 non-null int64\n",
      "SHOT_MADE_FLAG         13470 non-null int64\n",
      "GAME_DATE              13470 non-null int64\n",
      "HTM                    13470 non-null object\n",
      "VTM                    13470 non-null object\n",
      "dtypes: int64(13), object(11)\n",
      "memory usage: 2.5+ MB\n"
     ]
    }
   ],
   "source": [
    "play_off.info()\n",
    "\n"
   ]
  },
  {
   "cell_type": "code",
   "execution_count": 4,
   "metadata": {},
   "outputs": [
    {
     "data": {
      "text/plain": [
       "2PT Field Goal    8686\n",
       "3PT Field Goal    4784\n",
       "Name: SHOT_TYPE, dtype: int64"
      ]
     },
     "execution_count": 4,
     "metadata": {},
     "output_type": "execute_result"
    }
   ],
   "source": [
    "play_off['SHOT_TYPE'].value_counts()"
   ]
  },
  {
   "cell_type": "code",
   "execution_count": 5,
   "metadata": {},
   "outputs": [
    {
     "data": {
      "text/plain": [
       "Jump Shot                             4359\n",
       "Pullup Jump shot                      1816\n",
       "Driving Layup Shot                    1312\n",
       "Step Back Jump shot                    564\n",
       "Layup Shot                             538\n",
       "Driving Floating Jump Shot             448\n",
       "Cutting Layup Shot                     344\n",
       "Fadeaway Jump Shot                     332\n",
       "Driving Finger Roll Layup Shot         328\n",
       "Tip Layup Shot                         293\n",
       "Turnaround Fadeaway shot               271\n",
       "Turnaround Jump Shot                   236\n",
       "Cutting Dunk Shot                      217\n",
       "Floating Jump shot                     209\n",
       "Running Layup Shot                     208\n",
       "Turnaround Hook Shot                   173\n",
       "Hook Shot                              162\n",
       "Driving Reverse Layup Shot             148\n",
       "Driving Floating Bank Jump Shot        144\n",
       "Driving Dunk Shot                      138\n",
       "Putback Layup Shot                     135\n",
       "Alley Oop Dunk Shot                    124\n",
       "Dunk Shot                              116\n",
       "Driving Hook Shot                      108\n",
       "Running Dunk Shot                      104\n",
       "Reverse Layup Shot                     102\n",
       "Running Jump Shot                       76\n",
       "Alley Oop Layup shot                    65\n",
       "Jump Bank Shot                          64\n",
       "Running Finger Roll Layup Shot          56\n",
       "Running Pull-Up Jump Shot               49\n",
       "Turnaround Fadeaway Bank Jump Shot      49\n",
       "Cutting Finger Roll Layup Shot          34\n",
       "Putback Dunk Shot                       32\n",
       "Tip Dunk Shot                           27\n",
       "Finger Roll Layup Shot                  25\n",
       "Running Reverse Layup Shot              11\n",
       "Turnaround Bank Hook Shot               11\n",
       "Hook Bank Shot                           9\n",
       "Driving Bank Hook Shot                   8\n",
       "Running Alley Oop Layup Shot             6\n",
       "Running Alley Oop Dunk Shot              6\n",
       "Reverse Dunk Shot                        6\n",
       "Step Back Bank Jump Shot                 3\n",
       "Driving Reverse Dunk Shot                3\n",
       "Running Reverse Dunk Shot                1\n",
       "Name: ACTION_TYPE, dtype: int64"
      ]
     },
     "execution_count": 5,
     "metadata": {},
     "output_type": "execute_result"
    }
   ],
   "source": [
    "play_off['ACTION_TYPE'].value_counts()"
   ]
  },
  {
   "cell_type": "code",
   "execution_count": 7,
   "metadata": {},
   "outputs": [
    {
     "data": {
      "text/plain": [
       "Restricted Area          4321\n",
       "Above the Break 3        3665\n",
       "Mid-Range                2344\n",
       "In The Paint (Non-RA)    2028\n",
       "Right Corner 3            567\n",
       "Left Corner 3             506\n",
       "Backcourt                  39\n",
       "Name: SHOT_ZONE_BASIC, dtype: int64"
      ]
     },
     "execution_count": 7,
     "metadata": {},
     "output_type": "execute_result"
    }
   ],
   "source": [
    "play_off['SHOT_ZONE_BASIC'].value_counts()"
   ]
  },
  {
   "cell_type": "code",
   "execution_count": 8,
   "metadata": {},
   "outputs": [
    {
     "data": {
      "text/plain": [
       "1    3541\n",
       "2    3369\n",
       "3    3252\n",
       "4    3239\n",
       "5      69\n",
       "Name: PERIOD, dtype: int64"
      ]
     },
     "execution_count": 8,
     "metadata": {},
     "output_type": "execute_result"
    }
   ],
   "source": [
    "play_off['PERIOD'].value_counts()"
   ]
  },
  {
   "cell_type": "code",
   "execution_count": 5,
   "metadata": {},
   "outputs": [],
   "source": [
    "play_off['game_number']=np.nan\n",
    "\n"
   ]
  },
  {
   "cell_type": "code",
   "execution_count": 6,
   "metadata": {},
   "outputs": [
    {
     "name": "stderr",
     "output_type": "stream",
     "text": [
      "/Users/Valli/anaconda3/lib/python3.7/site-packages/ipykernel_launcher.py:3: FutureWarning: get_value is deprecated and will be removed in a future release. Please use .at[] or .iat[] accessors instead\n",
      "  This is separate from the ipykernel package so we can avoid doing imports until\n",
      "/Users/Valli/anaconda3/lib/python3.7/site-packages/ipykernel_launcher.py:6: FutureWarning: set_value is deprecated and will be removed in a future release. Please use .at[] or .iat[] accessors instead\n",
      "  \n",
      "/Users/Valli/anaconda3/lib/python3.7/site-packages/ipykernel_launcher.py:8: FutureWarning: set_value is deprecated and will be removed in a future release. Please use .at[] or .iat[] accessors instead\n",
      "  \n",
      "/Users/Valli/anaconda3/lib/python3.7/site-packages/ipykernel_launcher.py:10: FutureWarning: set_value is deprecated and will be removed in a future release. Please use .at[] or .iat[] accessors instead\n",
      "  # Remove the CWD from sys.path while we load stuff.\n",
      "/Users/Valli/anaconda3/lib/python3.7/site-packages/ipykernel_launcher.py:12: FutureWarning: set_value is deprecated and will be removed in a future release. Please use .at[] or .iat[] accessors instead\n",
      "  if sys.path[0] == '':\n",
      "/Users/Valli/anaconda3/lib/python3.7/site-packages/ipykernel_launcher.py:14: FutureWarning: set_value is deprecated and will be removed in a future release. Please use .at[] or .iat[] accessors instead\n",
      "  \n",
      "/Users/Valli/anaconda3/lib/python3.7/site-packages/ipykernel_launcher.py:16: FutureWarning: set_value is deprecated and will be removed in a future release. Please use .at[] or .iat[] accessors instead\n",
      "  app.launch_new_instance()\n",
      "/Users/Valli/anaconda3/lib/python3.7/site-packages/ipykernel_launcher.py:18: FutureWarning: set_value is deprecated and will be removed in a future release. Please use .at[] or .iat[] accessors instead\n"
     ]
    }
   ],
   "source": [
    "for index, row in play_off.iterrows():\n",
    "    \n",
    "    game_id=play_off.get_value(index,'GAME_ID')\n",
    "    \n",
    "    if game_id==41700131 or game_id==41700101 or game_id==41700121 or game_id==41700111 or game_id==41700201 or game_id==41700211 or game_id==41700301 or game_id==41700401 or game_id==41700311 or game_id==41700221 or game_id==41700231 or game_id==41700151 or game_id==41700161 or game_id==41700171 or game_id==41700141:  \n",
    "        play_off.set_value(index,'game_number',1)\n",
    "    elif game_id==41700132 or game_id==41700102 or game_id==41700122 or game_id==41700112 or game_id==41700202 or game_id==41700212 or game_id==41700302 or game_id==41700402 or game_id==41700312 or game_id==41700222 or game_id==41700232 or game_id==41700152 or game_id==41700162 or game_id==41700272 or game_id==41700142 or game_id==41700172: \n",
    "        play_off.set_value(index,'game_number',2)\n",
    "    elif game_id==41700133 or game_id==41700103 or game_id==41700123 or game_id==41700113 or game_id==41700203 or game_id==41700213 or game_id==41700303 or game_id==41700313 or game_id==41700223 or game_id==41700233 or game_id==41700153 or game_id==41700163 or game_id==41700173 or game_id==41700143:\n",
    "        play_off.set_value(index,'game_number',3)\n",
    "    elif game_id==41700134 or game_id==41700104 or game_id==41700124 or game_id==41700114 or game_id==41700204 or game_id==41700214 or game_id==41700304 or game_id==41700314 or game_id==41700224 or game_id==41700234 or game_id==41700154 or game_id==41700164 or game_id==41700174 or game_id==41700144:\n",
    "        play_off.set_value(index,'game_number',4)\n",
    "    elif game_id==41700135 or game_id==41700105 or game_id==41700125 or game_id==41700115 or game_id==41700215 or game_id==41700305 or game_id==41700315 or game_id==41700225 or game_id==41700235 or game_id==41700155 or game_id==41700175 or game_id==41700145:\n",
    "        play_off.set_value(index,'game_number',5)\n",
    "    elif game_id==41700136 or game_id==41700106 or game_id==41700116 or game_id==41700306 or game_id==41700316 or game_id==41700176:\n",
    "        play_off.set_value(index,'game_number',6)\n",
    "    elif game_id==41700137 or game_id==41700117 or game_id==41700307 or game_id==41700317:\n",
    "        play_off.set_value(index,'game_number',7)"
   ]
  },
  {
   "cell_type": "code",
   "execution_count": 7,
   "metadata": {},
   "outputs": [],
   "source": [
    "play_off['Series']=np.nan"
   ]
  },
  {
   "cell_type": "code",
   "execution_count": 8,
   "metadata": {},
   "outputs": [],
   "source": [
    "cavpac=((play_off['HTM']=='CLE')&(play_off['VTM']=='IND'))\n",
    "paccav=((play_off['HTM']==\"IND\")&(play_off['VTM']=='CLE'))\n",
    "play_off.loc[((cavpac)|(paccav)),'Series']='Cavaliers VS Pacers'"
   ]
  },
  {
   "cell_type": "code",
   "execution_count": 9,
   "metadata": {},
   "outputs": [],
   "source": [
    "rapwiz=((play_off['HTM']=='TOR')&(play_off['VTM']=='WAS'))\n",
    "wizrap=((play_off['HTM']==\"WAS\")&(play_off['VTM']=='TOR'))\n",
    "play_off.loc[((rapwiz)|(wizrap)),'Series']='Raptors VS Wizards'"
   ]
  },
  {
   "cell_type": "code",
   "execution_count": 10,
   "metadata": {},
   "outputs": [],
   "source": [
    "sixheat=((play_off['HTM']=='PHI')&(play_off['VTM']=='MIA'))\n",
    "heatsix=((play_off['HTM']==\"MIA\")&(play_off['VTM']=='PHI'))\n",
    "play_off.loc[((sixheat)|(heatsix)),'Series']='76ers VS Heat'"
   ]
  },
  {
   "cell_type": "code",
   "execution_count": 11,
   "metadata": {},
   "outputs": [],
   "source": [
    "celticsbucks=((play_off['HTM']=='BOS')&(play_off['VTM']=='MIL'))\n",
    "bucksceltics=((play_off['HTM']==\"MIL\")&(play_off['VTM']=='BOS'))\n",
    "play_off.loc[((celticsbucks)|(bucksceltics)),'Series']='Celtics VS Bucks'"
   ]
  },
  {
   "cell_type": "code",
   "execution_count": 12,
   "metadata": {},
   "outputs": [],
   "source": [
    "rapcavs=((play_off['HTM']=='TOR')&(play_off['VTM']=='CLE'))\n",
    "cavsrap=((play_off['HTM']==\"CLE\")&(play_off['VTM']=='TOR'))\n",
    "play_off.loc[((rapcavs)|(cavsrap)),'Series']='Raptors VS Cavaliers'"
   ]
  },
  {
   "cell_type": "code",
   "execution_count": 13,
   "metadata": {},
   "outputs": [],
   "source": [
    "sixceltics=((play_off['HTM']=='PHI')&(play_off['VTM']=='BOS'))\n",
    "celticssix=((play_off['HTM']==\"BOS\")&(play_off['VTM']=='PHI'))\n",
    "play_off.loc[((sixceltics)|(celticssix)),'Series']='76ers VS Celtics'"
   ]
  },
  {
   "cell_type": "code",
   "execution_count": 14,
   "metadata": {},
   "outputs": [],
   "source": [
    "cavsceltics=((play_off['HTM']=='CLE')&(play_off['VTM']=='BOS'))\n",
    "celticscavs=((play_off['HTM']==\"BOS\")&(play_off['VTM']=='CLE'))\n",
    "play_off.loc[((cavsceltics)|(celticscavs)),'Series']='Cavaliers VS Celtics'"
   ]
  },
  {
   "cell_type": "code",
   "execution_count": 15,
   "metadata": {},
   "outputs": [],
   "source": [
    "cavswars=((play_off['HTM']=='CLE')&(play_off['VTM']=='GSW'))\n",
    "warscavs=((play_off['HTM']==\"GSW\")&(play_off['VTM']=='CLE'))\n",
    "play_off.loc[((cavswars)|(warscavs)),'Series']='NBA Finals'"
   ]
  },
  {
   "cell_type": "code",
   "execution_count": 16,
   "metadata": {},
   "outputs": [],
   "source": [
    "rockswars=((play_off['HTM']=='HOU')&(play_off['VTM']=='GSW'))\n",
    "warsrocks=((play_off['HTM']==\"GSW\")&(play_off['VTM']=='HOU'))\n",
    "play_off.loc[((rockswars)|(warsrocks)),'Series']='Rockets VS Warriors'"
   ]
  },
  {
   "cell_type": "code",
   "execution_count": 17,
   "metadata": {},
   "outputs": [],
   "source": [
    "rockjazz=((play_off['HTM']=='HOU')&(play_off['VTM']=='UTA'))\n",
    "jazzrock=((play_off['HTM']==\"UTA\")&(play_off['VTM']=='HOU'))\n",
    "play_off.loc[((rockjazz)|(jazzrock)),'Series']='Rockets VS Jazz'"
   ]
  },
  {
   "cell_type": "code",
   "execution_count": 18,
   "metadata": {},
   "outputs": [],
   "source": [
    "pelicanswar=((play_off['HTM']=='NOP')&(play_off['VTM']=='GSW'))\n",
    "warpelicans=((play_off['HTM']==\"GSW\")&(play_off['VTM']=='NOP'))\n",
    "play_off.loc[((pelicanswar)|(warpelicans)),'Series']='Pelicans VS Warriors'"
   ]
  },
  {
   "cell_type": "code",
   "execution_count": 19,
   "metadata": {},
   "outputs": [],
   "source": [
    "spurwar=((play_off['HTM']=='SAS')&(play_off['VTM']=='GSW'))\n",
    "warspur=((play_off['HTM']==\"GSW\")&(play_off['VTM']=='SAS'))\n",
    "play_off.loc[((spurwar)|(warspur)),'Series']='Spurs VS Warriors'"
   ]
  },
  {
   "cell_type": "code",
   "execution_count": 20,
   "metadata": {},
   "outputs": [],
   "source": [
    "peltrail=((play_off['HTM']=='NOP')&(play_off['VTM']=='POR'))\n",
    "trailpel=((play_off['HTM']==\"POR\")&(play_off['VTM']=='NOP'))\n",
    "play_off.loc[((peltrail)|(trailpel)),'Series']='Pelicans VS TrailBlazers'"
   ]
  },
  {
   "cell_type": "code",
   "execution_count": 21,
   "metadata": {},
   "outputs": [],
   "source": [
    "thunderjazz=((play_off['HTM']=='OKC')&(play_off['VTM']=='UTA'))\n",
    "jazzthunder=((play_off['HTM']==\"UTA\")&(play_off['VTM']=='OKC'))\n",
    "play_off.loc[((thunderjazz)|(jazzthunder)),'Series']='Thunder VS Jazz'"
   ]
  },
  {
   "cell_type": "code",
   "execution_count": 22,
   "metadata": {},
   "outputs": [],
   "source": [
    "timbrock=((play_off['HTM']=='MIN')&(play_off['VTM']=='HOU'))\n",
    "rocktimb=((play_off['HTM']==\"HOU\")&(play_off['VTM']=='MIN'))\n",
    "play_off.loc[((timbrock)|(rocktimb)),'Series']='Rockets VS TimberWolves'"
   ]
  },
  {
   "cell_type": "code",
   "execution_count": 23,
   "metadata": {},
   "outputs": [
    {
     "name": "stdout",
     "output_type": "stream",
     "text": [
      "<class 'pandas.core.frame.DataFrame'>\n",
      "RangeIndex: 13470 entries, 0 to 13469\n",
      "Data columns (total 26 columns):\n",
      "GRID_TYPE              13470 non-null object\n",
      "GAME_ID                13470 non-null int64\n",
      "GAME_EVENT_ID          13470 non-null int64\n",
      "PLAYER_ID              13470 non-null int64\n",
      "PLAYER_NAME            13470 non-null object\n",
      "TEAM_ID                13470 non-null int64\n",
      "TEAM_NAME              13470 non-null object\n",
      "PERIOD                 13470 non-null int64\n",
      "MINUTES_REMAINING      13470 non-null int64\n",
      "SECONDS_REMAINING      13470 non-null int64\n",
      "EVENT_TYPE             13470 non-null object\n",
      "ACTION_TYPE            13470 non-null object\n",
      "SHOT_TYPE              13470 non-null object\n",
      "SHOT_ZONE_BASIC        13470 non-null object\n",
      "SHOT_ZONE_AREA         13470 non-null object\n",
      "SHOT_ZONE_RANGE        13470 non-null object\n",
      "SHOT_DISTANCE          13470 non-null int64\n",
      "LOC_X                  13470 non-null int64\n",
      "LOC_Y                  13470 non-null int64\n",
      "SHOT_ATTEMPTED_FLAG    13470 non-null int64\n",
      "SHOT_MADE_FLAG         13470 non-null int64\n",
      "GAME_DATE              13470 non-null int64\n",
      "HTM                    13470 non-null object\n",
      "VTM                    13470 non-null object\n",
      "game_number            13470 non-null float64\n",
      "Series                 13470 non-null object\n",
      "dtypes: float64(1), int64(13), object(12)\n",
      "memory usage: 2.7+ MB\n"
     ]
    }
   ],
   "source": [
    "play_off.info()"
   ]
  },
  {
   "cell_type": "code",
   "execution_count": 24,
   "metadata": {},
   "outputs": [
    {
     "name": "stderr",
     "output_type": "stream",
     "text": [
      "/Users/Valli/anaconda3/lib/python3.7/site-packages/ipykernel_launcher.py:3: FutureWarning: set_value is deprecated and will be removed in a future release. Please use .at[] or .iat[] accessors instead\n",
      "  This is separate from the ipykernel package so we can avoid doing imports until\n"
     ]
    }
   ],
   "source": [
    "play_off['shot_id']=np.nan\n",
    "for index, row in play_off.iterrows():\n",
    "    play_off.set_value(index,'shot_id',index)"
   ]
  },
  {
   "cell_type": "code",
   "execution_count": 26,
   "metadata": {},
   "outputs": [
    {
     "data": {
      "text/html": [
       "<div>\n",
       "<style scoped>\n",
       "    .dataframe tbody tr th:only-of-type {\n",
       "        vertical-align: middle;\n",
       "    }\n",
       "\n",
       "    .dataframe tbody tr th {\n",
       "        vertical-align: top;\n",
       "    }\n",
       "\n",
       "    .dataframe thead th {\n",
       "        text-align: right;\n",
       "    }\n",
       "</style>\n",
       "<table border=\"1\" class=\"dataframe\">\n",
       "  <thead>\n",
       "    <tr style=\"text-align: right;\">\n",
       "      <th></th>\n",
       "      <th>GRID_TYPE</th>\n",
       "      <th>GAME_ID</th>\n",
       "      <th>GAME_EVENT_ID</th>\n",
       "      <th>PLAYER_ID</th>\n",
       "      <th>PLAYER_NAME</th>\n",
       "      <th>TEAM_ID</th>\n",
       "      <th>TEAM_NAME</th>\n",
       "      <th>PERIOD</th>\n",
       "      <th>MINUTES_REMAINING</th>\n",
       "      <th>SECONDS_REMAINING</th>\n",
       "      <th>...</th>\n",
       "      <th>LOC_X</th>\n",
       "      <th>LOC_Y</th>\n",
       "      <th>SHOT_ATTEMPTED_FLAG</th>\n",
       "      <th>SHOT_MADE_FLAG</th>\n",
       "      <th>GAME_DATE</th>\n",
       "      <th>HTM</th>\n",
       "      <th>VTM</th>\n",
       "      <th>game_number</th>\n",
       "      <th>Series</th>\n",
       "      <th>shot_id</th>\n",
       "    </tr>\n",
       "  </thead>\n",
       "  <tbody>\n",
       "    <tr>\n",
       "      <th>0</th>\n",
       "      <td>Shot Chart Detail</td>\n",
       "      <td>41700131</td>\n",
       "      <td>149</td>\n",
       "      <td>2544</td>\n",
       "      <td>LeBron James</td>\n",
       "      <td>1610612739</td>\n",
       "      <td>Cleveland Cavaliers</td>\n",
       "      <td>1</td>\n",
       "      <td>1</td>\n",
       "      <td>24</td>\n",
       "      <td>...</td>\n",
       "      <td>-168</td>\n",
       "      <td>206</td>\n",
       "      <td>1</td>\n",
       "      <td>0</td>\n",
       "      <td>20180415</td>\n",
       "      <td>CLE</td>\n",
       "      <td>IND</td>\n",
       "      <td>1.0</td>\n",
       "      <td>Cavaliers VS Pacers</td>\n",
       "      <td>0.0</td>\n",
       "    </tr>\n",
       "    <tr>\n",
       "      <th>1</th>\n",
       "      <td>Shot Chart Detail</td>\n",
       "      <td>41700131</td>\n",
       "      <td>153</td>\n",
       "      <td>2544</td>\n",
       "      <td>LeBron James</td>\n",
       "      <td>1610612739</td>\n",
       "      <td>Cleveland Cavaliers</td>\n",
       "      <td>1</td>\n",
       "      <td>1</td>\n",
       "      <td>5</td>\n",
       "      <td>...</td>\n",
       "      <td>3</td>\n",
       "      <td>1</td>\n",
       "      <td>1</td>\n",
       "      <td>0</td>\n",
       "      <td>20180415</td>\n",
       "      <td>CLE</td>\n",
       "      <td>IND</td>\n",
       "      <td>1.0</td>\n",
       "      <td>Cavaliers VS Pacers</td>\n",
       "      <td>1.0</td>\n",
       "    </tr>\n",
       "    <tr>\n",
       "      <th>2</th>\n",
       "      <td>Shot Chart Detail</td>\n",
       "      <td>41700131</td>\n",
       "      <td>155</td>\n",
       "      <td>2544</td>\n",
       "      <td>LeBron James</td>\n",
       "      <td>1610612739</td>\n",
       "      <td>Cleveland Cavaliers</td>\n",
       "      <td>1</td>\n",
       "      <td>0</td>\n",
       "      <td>58</td>\n",
       "      <td>...</td>\n",
       "      <td>0</td>\n",
       "      <td>-6</td>\n",
       "      <td>1</td>\n",
       "      <td>0</td>\n",
       "      <td>20180415</td>\n",
       "      <td>CLE</td>\n",
       "      <td>IND</td>\n",
       "      <td>1.0</td>\n",
       "      <td>Cavaliers VS Pacers</td>\n",
       "      <td>2.0</td>\n",
       "    </tr>\n",
       "    <tr>\n",
       "      <th>3</th>\n",
       "      <td>Shot Chart Detail</td>\n",
       "      <td>41700131</td>\n",
       "      <td>187</td>\n",
       "      <td>2544</td>\n",
       "      <td>LeBron James</td>\n",
       "      <td>1610612739</td>\n",
       "      <td>Cleveland Cavaliers</td>\n",
       "      <td>2</td>\n",
       "      <td>11</td>\n",
       "      <td>8</td>\n",
       "      <td>...</td>\n",
       "      <td>-8</td>\n",
       "      <td>13</td>\n",
       "      <td>1</td>\n",
       "      <td>1</td>\n",
       "      <td>20180415</td>\n",
       "      <td>CLE</td>\n",
       "      <td>IND</td>\n",
       "      <td>1.0</td>\n",
       "      <td>Cavaliers VS Pacers</td>\n",
       "      <td>3.0</td>\n",
       "    </tr>\n",
       "    <tr>\n",
       "      <th>4</th>\n",
       "      <td>Shot Chart Detail</td>\n",
       "      <td>41700131</td>\n",
       "      <td>195</td>\n",
       "      <td>2544</td>\n",
       "      <td>LeBron James</td>\n",
       "      <td>1610612739</td>\n",
       "      <td>Cleveland Cavaliers</td>\n",
       "      <td>2</td>\n",
       "      <td>10</td>\n",
       "      <td>22</td>\n",
       "      <td>...</td>\n",
       "      <td>2</td>\n",
       "      <td>10</td>\n",
       "      <td>1</td>\n",
       "      <td>1</td>\n",
       "      <td>20180415</td>\n",
       "      <td>CLE</td>\n",
       "      <td>IND</td>\n",
       "      <td>1.0</td>\n",
       "      <td>Cavaliers VS Pacers</td>\n",
       "      <td>4.0</td>\n",
       "    </tr>\n",
       "  </tbody>\n",
       "</table>\n",
       "<p>5 rows × 27 columns</p>\n",
       "</div>"
      ],
      "text/plain": [
       "           GRID_TYPE   GAME_ID  GAME_EVENT_ID  PLAYER_ID   PLAYER_NAME  \\\n",
       "0  Shot Chart Detail  41700131            149       2544  LeBron James   \n",
       "1  Shot Chart Detail  41700131            153       2544  LeBron James   \n",
       "2  Shot Chart Detail  41700131            155       2544  LeBron James   \n",
       "3  Shot Chart Detail  41700131            187       2544  LeBron James   \n",
       "4  Shot Chart Detail  41700131            195       2544  LeBron James   \n",
       "\n",
       "      TEAM_ID            TEAM_NAME  PERIOD  MINUTES_REMAINING  \\\n",
       "0  1610612739  Cleveland Cavaliers       1                  1   \n",
       "1  1610612739  Cleveland Cavaliers       1                  1   \n",
       "2  1610612739  Cleveland Cavaliers       1                  0   \n",
       "3  1610612739  Cleveland Cavaliers       2                 11   \n",
       "4  1610612739  Cleveland Cavaliers       2                 10   \n",
       "\n",
       "   SECONDS_REMAINING   ...    LOC_X LOC_Y SHOT_ATTEMPTED_FLAG SHOT_MADE_FLAG  \\\n",
       "0                 24   ...     -168   206                   1              0   \n",
       "1                  5   ...        3     1                   1              0   \n",
       "2                 58   ...        0    -6                   1              0   \n",
       "3                  8   ...       -8    13                   1              1   \n",
       "4                 22   ...        2    10                   1              1   \n",
       "\n",
       "  GAME_DATE  HTM  VTM  game_number               Series  shot_id  \n",
       "0  20180415  CLE  IND          1.0  Cavaliers VS Pacers      0.0  \n",
       "1  20180415  CLE  IND          1.0  Cavaliers VS Pacers      1.0  \n",
       "2  20180415  CLE  IND          1.0  Cavaliers VS Pacers      2.0  \n",
       "3  20180415  CLE  IND          1.0  Cavaliers VS Pacers      3.0  \n",
       "4  20180415  CLE  IND          1.0  Cavaliers VS Pacers      4.0  \n",
       "\n",
       "[5 rows x 27 columns]"
      ]
     },
     "execution_count": 26,
     "metadata": {},
     "output_type": "execute_result"
    }
   ],
   "source": [
    "play_off.head()"
   ]
  },
  {
   "cell_type": "code",
   "execution_count": 46,
   "metadata": {
    "scrolled": true
   },
   "outputs": [
    {
     "data": {
      "text/plain": [
       "Rockets VS Warriors         1161\n",
       "Celtics VS Bucks            1133\n",
       "Cavaliers VS Celtics        1129\n",
       "Cavaliers VS Pacers         1095\n",
       "Thunder VS Jazz             1024\n",
       "Raptors VS Wizards          1008\n",
       "Pelicans VS Warriors         941\n",
       "76ers VS Celtics             866\n",
       "Rockets VS TimberWolves      853\n",
       "76ers VS Heat                851\n",
       "Rockets VS Jazz              841\n",
       "Spurs VS Warriors            833\n",
       "Pelicans VS TrailBlazers     699\n",
       "Raptors VS Cavaliers         675\n",
       "NBA Finals                   361\n",
       "Name: Series, dtype: int64"
      ]
     },
     "execution_count": 46,
     "metadata": {},
     "output_type": "execute_result"
    }
   ],
   "source": [
    "play_off['Series'].value_counts()"
   ]
  },
  {
   "cell_type": "code",
   "execution_count": 27,
   "metadata": {},
   "outputs": [],
   "source": [
    "play_off.to_csv('play_off.csv')"
   ]
  },
  {
   "cell_type": "code",
   "execution_count": null,
   "metadata": {},
   "outputs": [],
   "source": []
  }
 ],
 "metadata": {
  "kernelspec": {
   "display_name": "Python 3",
   "language": "python",
   "name": "python3"
  },
  "language_info": {
   "codemirror_mode": {
    "name": "ipython",
    "version": 3
   },
   "file_extension": ".py",
   "mimetype": "text/x-python",
   "name": "python",
   "nbconvert_exporter": "python",
   "pygments_lexer": "ipython3",
   "version": "3.7.0"
  }
 },
 "nbformat": 4,
 "nbformat_minor": 2
}
