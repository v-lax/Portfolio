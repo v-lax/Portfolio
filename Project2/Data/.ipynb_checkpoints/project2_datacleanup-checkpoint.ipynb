{
 "cells": [
  {
   "cell_type": "code",
   "execution_count": 1,
   "metadata": {},
   "outputs": [],
   "source": [
    "import pandas as pd \n",
    "import numpy as np"
   ]
  },
  {
   "cell_type": "code",
   "execution_count": 2,
   "metadata": {},
   "outputs": [],
   "source": [
    "death_sentence=pd.read_csv('the-condemed-data.csv')"
   ]
  },
  {
   "cell_type": "code",
   "execution_count": 3,
   "metadata": {},
   "outputs": [
    {
     "name": "stdout",
     "output_type": "stream",
     "text": [
      "<class 'pandas.core.frame.DataFrame'>\n",
      "RangeIndex: 7328 entries, 0 to 7327\n",
      "Data columns (total 22 columns):\n",
      "Unnamed: 0                7328 non-null int64\n",
      "Status                    7328 non-null object\n",
      "state                     7328 non-null object\n",
      "sentencing_date           7328 non-null object\n",
      "sentencing_year           7328 non-null int64\n",
      "full_name                 7328 non-null object\n",
      "last_name                 7328 non-null object\n",
      "first_name                7328 non-null object\n",
      "race                      7328 non-null object\n",
      "County                    7319 non-null object\n",
      "DOB                       6517 non-null object\n",
      "gender                    7326 non-null object\n",
      "currently_on_death_row    7324 non-null object\n",
      "executed                  7324 non-null object\n",
      "volunteer_execution       132 non-null object\n",
      "died                      592 non-null object\n",
      "suicide                   103 non-null object\n",
      "commuted                  68 non-null object\n",
      "exonerated                132 non-null object\n",
      "resentenced               2368 non-null object\n",
      "current_sentence          2392 non-null object\n",
      "released                  334 non-null object\n",
      "dtypes: int64(2), object(20)\n",
      "memory usage: 1.2+ MB\n"
     ]
    }
   ],
   "source": [
    "death_sentence.info()"
   ]
  },
  {
   "cell_type": "code",
   "execution_count": 4,
   "metadata": {},
   "outputs": [
    {
     "data": {
      "text/plain": [
       "False    7328\n",
       "Name: sentencing_year, dtype: int64"
      ]
     },
     "execution_count": 4,
     "metadata": {},
     "output_type": "execute_result"
    }
   ],
   "source": [
    "death_sentence['sentencing_year'].isnull().value_counts()"
   ]
  },
  {
   "cell_type": "code",
   "execution_count": 5,
   "metadata": {},
   "outputs": [],
   "source": [
    "death_sentence=death_sentence.dropna(subset=['sentencing_year'])"
   ]
  },
  {
   "cell_type": "code",
   "execution_count": 6,
   "metadata": {},
   "outputs": [
    {
     "name": "stdout",
     "output_type": "stream",
     "text": [
      "<class 'pandas.core.frame.DataFrame'>\n",
      "Int64Index: 7328 entries, 0 to 7327\n",
      "Data columns (total 22 columns):\n",
      "Unnamed: 0                7328 non-null int64\n",
      "Status                    7328 non-null object\n",
      "state                     7328 non-null object\n",
      "sentencing_date           7328 non-null object\n",
      "sentencing_year           7328 non-null int64\n",
      "full_name                 7328 non-null object\n",
      "last_name                 7328 non-null object\n",
      "first_name                7328 non-null object\n",
      "race                      7328 non-null object\n",
      "County                    7319 non-null object\n",
      "DOB                       6517 non-null object\n",
      "gender                    7326 non-null object\n",
      "currently_on_death_row    7324 non-null object\n",
      "executed                  7324 non-null object\n",
      "volunteer_execution       132 non-null object\n",
      "died                      592 non-null object\n",
      "suicide                   103 non-null object\n",
      "commuted                  68 non-null object\n",
      "exonerated                132 non-null object\n",
      "resentenced               2368 non-null object\n",
      "current_sentence          2392 non-null object\n",
      "released                  334 non-null object\n",
      "dtypes: int64(2), object(20)\n",
      "memory usage: 1.3+ MB\n"
     ]
    }
   ],
   "source": [
    "death_sentence.info()"
   ]
  },
  {
   "cell_type": "code",
   "execution_count": 7,
   "metadata": {},
   "outputs": [
    {
     "data": {
      "text/plain": [
       "Not Currently on Death Row    3117\n",
       "On Death Row                  2752\n",
       "Executed                      1447\n",
       "Not Currently On Death Row      12\n",
       "Name: Status, dtype: int64"
      ]
     },
     "execution_count": 7,
     "metadata": {},
     "output_type": "execute_result"
    }
   ],
   "source": [
    "death_sentence['Status'].value_counts()"
   ]
  },
  {
   "cell_type": "code",
   "execution_count": 8,
   "metadata": {},
   "outputs": [
    {
     "data": {
      "text/plain": [
       "TX        1068\n",
       "CA         995\n",
       "FL         992\n",
       "AL         463\n",
       "PA         410\n",
       "NC         405\n",
       "OH         356\n",
       "OK         329\n",
       "AZ         313\n",
       "LA         224\n",
       "GA         203\n",
       "TN         195\n",
       "MO         187\n",
       "SC         184\n",
       "NV         164\n",
       "VA         150\n",
       "AR         115\n",
       "MS         107\n",
       "IN          96\n",
       "US GOV      83\n",
       "KY          80\n",
       "OR          63\n",
       "ID          41\n",
       "NE          30\n",
       "CO          19\n",
       "UT          18\n",
       "KS          11\n",
       "MT           9\n",
       "SD           8\n",
       "US MIL       6\n",
       "WY           4\n",
       "Name: state, dtype: int64"
      ]
     },
     "execution_count": 8,
     "metadata": {},
     "output_type": "execute_result"
    }
   ],
   "source": [
    "death_sentence['state'].value_counts()"
   ]
  },
  {
   "cell_type": "code",
   "execution_count": 8,
   "metadata": {},
   "outputs": [],
   "source": [
    "death_sentence.to_csv('the-condemed-data.csv')"
   ]
  },
  {
   "cell_type": "code",
   "execution_count": null,
   "metadata": {},
   "outputs": [],
   "source": []
  }
 ],
 "metadata": {
  "kernelspec": {
   "display_name": "Python 2",
   "language": "python",
   "name": "python2"
  },
  "language_info": {
   "codemirror_mode": {
    "name": "ipython",
    "version": 2
   },
   "file_extension": ".py",
   "mimetype": "text/x-python",
   "name": "python",
   "nbconvert_exporter": "python",
   "pygments_lexer": "ipython2",
   "version": "2.7.16"
  }
 },
 "nbformat": 4,
 "nbformat_minor": 2
}
